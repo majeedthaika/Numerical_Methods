{
 "cells": [
  {
   "cell_type": "markdown",
   "metadata": {},
   "source": [
    "###Instruction\n",
    " - There are 8 problems. 100 Points each. The full score is 720.\n",
    " - Work in your notebook.\n",
    " - You may show your work on a separate sheet of A4. I'll also check there for partial credit. If you just give you answer without justification and it's wrong I can't give you any partial credit. Make sure you mark which question the scribble belongs to.\n",
    " - You may ask me for python syntax or matplotlib question. But, you know you can use shift-tab or ? for documentation.\n",
    " - Make sure your code works in order doing Kernel-->restart and then Cell--> Run All. Make sure what appears in the ouput is what you expect"
   ]
  },
  {
   "cell_type": "code",
   "execution_count": 2,
   "metadata": {
    "collapsed": true
   },
   "outputs": [],
   "source": [
    "%matplotlib inline\n",
    "import numpy as np\n",
    "from matplotlib import pyplot as plt\n",
    "import math"
   ]
  },
  {
   "cell_type": "markdown",
   "metadata": {},
   "source": [
    "###Problem 1)(100) 25 each."
   ]
  },
  {
   "cell_type": "markdown",
   "metadata": {},
   "source": [
    "1.1) Find first 3 **non-zero** terms taylor series expansion of\n",
    "$$ f(x) = e^{x} $$ around $x=0$."
   ]
  },
  {
   "cell_type": "code",
   "execution_count": 2,
   "metadata": {
    "collapsed": false
   },
   "outputs": [
    {
     "name": "stdout",
     "output_type": "stream",
     "text": [
      "1 + x + (x^2)/2\n"
     ]
    }
   ],
   "source": [
    "print \"1 + x + (x^2)/2\""
   ]
  },
  {
   "cell_type": "markdown",
   "metadata": {},
   "source": [
    "1.2) Use the taylor above to estimate $$e^{0.1}$$."
   ]
  },
  {
   "cell_type": "code",
   "execution_count": 3,
   "metadata": {
    "collapsed": false
   },
   "outputs": [
    {
     "name": "stdout",
     "output_type": "stream",
     "text": [
      "1.105\n"
     ]
    }
   ],
   "source": [
    "print 1 + 0.1 + (0.1**2)/2"
   ]
  },
  {
   "cell_type": "markdown",
   "metadata": {},
   "source": [
    "1.3) What is the bound on **truncation error** for the estimate you got in 1.2)?"
   ]
  },
  {
   "cell_type": "code",
   "execution_count": 7,
   "metadata": {
    "collapsed": false
   },
   "outputs": [
    {
     "name": "stdout",
     "output_type": "stream",
     "text": [
      "\n",
      "We want to maximize the error term:\n",
      "(f^3(z))(x^3)/3!\n",
      "\n",
      "f^3(z) = e^z\n",
      "With z in range [0,0.1],\n",
      "using this, we get max at z=0.1\n",
      "\n",
      "Thus, truncation error bound is : 0.000184195153013\n"
     ]
    }
   ],
   "source": [
    "print \"\"\"\n",
    "We want to maximize the error term:\n",
    "(f^3(z))(x^3)/3!\n",
    "\n",
    "f^3(z) = e^z\n",
    "With z in range [0,0.1],\n",
    "using this, we get max at z=0.1\n",
    "\"\"\"\n",
    "\n",
    "print \"Thus, truncation error bound is : \" + str((((0.1)**3)*math.exp(0.1))/6)\n",
    "# print math.exp(0.1) - (1 + 0.1 + (0.1**2)/2)"
   ]
  },
  {
   "cell_type": "markdown",
   "metadata": {},
   "source": [
    "1.4) How many **non-zero** terms do I need such that the bound **truncation error** is less than $10^{-7}$?"
   ]
  },
  {
   "cell_type": "code",
   "execution_count": 15,
   "metadata": {
    "collapsed": false
   },
   "outputs": [
    {
     "name": "stdout",
     "output_type": "stream",
     "text": [
      "terms = 5\n"
     ]
    }
   ],
   "source": [
    "def fac(x):\n",
    "    out = 1\n",
    "    for i in range(1,x+1):\n",
    "        out *= i\n",
    "    return out\n",
    "\n",
    "def terms(b):\n",
    "    terms = 1\n",
    "    error = (0.1)*math.exp(0.1)/fac(terms)\n",
    "    while (error>b):\n",
    "        terms += 1\n",
    "        error = ((0.1)**terms)*math.exp(0.1)/fac(terms)\n",
    "    return terms\n",
    "\n",
    "print \"terms = \" + str(terms(10**-7))"
   ]
  },
  {
   "cell_type": "markdown",
   "metadata": {},
   "source": [
    "###Problem 2) (100)"
   ]
  },
  {
   "cell_type": "markdown",
   "metadata": {},
   "source": [
    "2.1) Use bisection method to find **all solutions** of\n",
    "\n",
    "$$ \\sin(x^2)/x^2 = 0.1 $$\n",
    "\n",
    "for $x>0.1$. See pic below.\n",
    "\n",
    "Make sure your answers are at most $10^{-4}$ away from the actual solution."
   ]
  },
  {
   "cell_type": "code",
   "execution_count": 13,
   "metadata": {
    "collapsed": false
   },
   "outputs": [
    {
     "name": "stdout",
     "output_type": "stream",
     "text": [
      "1.68886210938\n",
      "2.6585984375\n",
      "2.90225078125\n"
     ]
    },
    {
     "data": {
      "image/png": "[encoded data removed]",
      "text/plain": [
       "<matplotlib.figure.Figure at 0x112140b50>"
      ]
     },
     "metadata": {},
     "output_type": "display_data"
    }
   ],
   "source": [
    "def f(x):\n",
    "    return math.sin(x**2)/(x**2)\n",
    "\n",
    "def bisection(l,r):\n",
    "    m = (l+r)/2\n",
    "    if (abs(f(m)-0.1)<=10**-4):\n",
    "        plt.axvline(m,color='green')\n",
    "        return m\n",
    "    else:\n",
    "        if ((f(m)-0.1)*(f(l)-0.1)<0):\n",
    "            return bisection(l,m)\n",
    "        else:\n",
    "            return bisection(m,r)\n",
    "\n",
    "def allsoln(l,r):\n",
    "    h = (r-l)/100\n",
    "    for i in range(100):\n",
    "        if (((f(l)-0.1)*(f(l+h)-0.1))<0):\n",
    "            print bisection(l,l+h)\n",
    "        l+=h\n",
    "        \n",
    "allsoln(0.01,5.)\n",
    "\n",
    "x = np.linspace(0.1,20,1000)\n",
    "fx = [f(xx) for xx in x]\n",
    "plt.plot(x,fx, 'r')\n",
    "plt.axhline(0.1)\n",
    "plt.grid()"
   ]
  },
  {
   "cell_type": "code",
   "execution_count": null,
   "metadata": {
    "collapsed": true
   },
   "outputs": [],
   "source": []
  },
  {
   "cell_type": "markdown",
   "metadata": {},
   "source": [
    "###Problem 3) (100)"
   ]
  },
  {
   "cell_type": "markdown",
   "metadata": {
    "collapsed": true
   },
   "source": [
    "3.1) (90 points) Use Newton's method to find intersection of the following two lines.\n",
    "\n",
    "$$f(x) = x^2 + 1$$\n",
    "\n",
    "$$g(x) = x^3$$\n",
    "\n",
    "Any **decent** result from Newton's method will get your full credit. You **must** use Newton's method. No credit will be given to any other method. "
   ]
  },
  {
   "cell_type": "code",
   "execution_count": 36,
   "metadata": {
    "collapsed": false
   },
   "outputs": [
    {
     "name": "stdout",
     "output_type": "stream",
     "text": [
      "1.46558089357\n"
     ]
    },
    {
     "data": {
      "image/png": "[encoded data removed]",
      "text/plain": [
       "<matplotlib.figure.Figure at 0x1121595d0>"
      ]
     },
     "metadata": {},
     "output_type": "display_data"
    }
   ],
   "source": [
    "def f(x):\n",
    "    return x**2 + 1\n",
    "def g(x):\n",
    "    return x**3\n",
    "\n",
    "def i(x):\n",
    "    return g(x)-f(x)\n",
    "def d(x):\n",
    "    return 3*(x**2)-2\n",
    "\n",
    "def newton(z):\n",
    "    while (abs(i(z))>=10**-4):\n",
    "        z = z - (i(z)/d(z))\n",
    "    plt.axvline(z,color='orange')\n",
    "    return z\n",
    "\n",
    "x = np.linspace(0,2,100)\n",
    "fx = [f(xx) for xx in x]\n",
    "gx = [g(xx) for xx in x]\n",
    "ix = [i(xx) for xx in x]\n",
    "\n",
    "print newton(1.0)\n",
    "\n",
    "plt.plot(x,fx)\n",
    "plt.plot(x,gx)\n",
    "plt.plot(x,ix)\n",
    "plt.grid()"
   ]
  },
  {
   "cell_type": "code",
   "execution_count": null,
   "metadata": {
    "collapsed": true
   },
   "outputs": [],
   "source": []
  },
  {
   "cell_type": "markdown",
   "metadata": {},
   "source": [
    "3.2)(5 Points) Which method converge faster: Newton's Method or bisection?"
   ]
  },
  {
   "cell_type": "code",
   "execution_count": 34,
   "metadata": {
    "collapsed": false
   },
   "outputs": [
    {
     "name": "stdout",
     "output_type": "stream",
     "text": [
      "Newton\n"
     ]
    }
   ],
   "source": [
    "print \"Newton\""
   ]
  },
  {
   "cell_type": "markdown",
   "metadata": {},
   "source": [
    "3.3) (5 Points) Does Newton's method guarantee to convege to the real answer?"
   ]
  },
  {
   "cell_type": "code",
   "execution_count": 35,
   "metadata": {
    "collapsed": false
   },
   "outputs": [
    {
     "name": "stdout",
     "output_type": "stream",
     "text": [
      "No\n"
     ]
    }
   ],
   "source": [
    "print \"No\""
   ]
  },
  {
   "cell_type": "markdown",
   "metadata": {},
   "source": [
    "### Problem 4)  (100)"
   ]
  },
  {
   "cell_type": "markdown",
   "metadata": {
    "collapsed": true
   },
   "source": [
    "4.1)(35 points) Show that\n",
    "\n",
    "$$f''(x) = \\frac{f(x+h) -2f(x) + f(x-h)}{h^2} + O(h^2)$$"
   ]
  },
  {
   "cell_type": "code",
   "execution_count": 37,
   "metadata": {
    "collapsed": false
   },
   "outputs": [
    {
     "name": "stdout",
     "output_type": "stream",
     "text": [
      "Look at written\n"
     ]
    }
   ],
   "source": [
    "print \"Look at written\""
   ]
  },
  {
   "cell_type": "markdown",
   "metadata": {},
   "source": [
    "4.2)(35 points) Let\n",
    "$$f(x) = x^2 \\exp(x \\cos (x))$$\n",
    "Plot for $x \\in [0,2\\pi]$ the following lines\n",
    "\n",
    "1. $f(x)$\n",
    "2. $f'(x)$ caculated numerically using central difference method.\n",
    "3. $f''(x)$ calculated numerically.\n",
    "\n",
    "Pick appropriate value for $h$. Analytical answers will not be accepted."
   ]
  },
  {
   "cell_type": "code",
   "execution_count": 46,
   "metadata": {
    "collapsed": false,
    "scrolled": true
   },
   "outputs": [
    {
     "data": {
      "image/png": "[encoded data removed]",
      "text/plain": [
       "<matplotlib.figure.Figure at 0x112168290>"
      ]
     },
     "metadata": {},
     "output_type": "display_data"
    }
   ],
   "source": [
    "def f(x):\n",
    "    return (x**2)*math.exp(x*math.cos(x))\n",
    "\n",
    "def fd(x,h):\n",
    "    return (f(x+(h/2))-f(x-(h/2)))/h\n",
    "\n",
    "def fdd(x,h):\n",
    "    return (f(x+h)-2*f(x)+f(x-h))/(h**2)\n",
    "\n",
    "x = np.linspace(0,2*math.pi,100)\n",
    "fx = [f(xx) for xx in x]\n",
    "fdx = [fd(xx,0.00001) for xx in x]\n",
    "fddx = [fdd(xx,0.00001) for xx in x]\n",
    "\n",
    "plt.plot(x,fx)\n",
    "plt.plot(x,fdx)\n",
    "plt.plot(x,fddx)\n",
    "plt.grid()"
   ]
  },
  {
   "cell_type": "markdown",
   "metadata": {},
   "source": [
    "4.3)(30 points) Plot polynomial of **degree 4** that passes through the following four points.\n",
    "$$(0.1, 1), (0.2,2), (0.5, 3),  (0,4), (1, 5) $$\n",
    "\n",
    "Make sure your polynomial is of **degree 4**."
   ]
  },
  {
   "cell_type": "code",
   "execution_count": 50,
   "metadata": {
    "collapsed": false
   },
   "outputs": [
    {
     "data": {
      "image/png": "[encoded data removed]",
      "text/plain": [
       "<matplotlib.figure.Figure at 0x1120f14d0>"
      ]
     },
     "metadata": {},
     "output_type": "display_data"
    }
   ],
   "source": [
    "def legendre(z,x,y):\n",
    "    out = 0\n",
    "    for i in range(len(x)):\n",
    "        temp = 1.\n",
    "        for j in range(len(x)):\n",
    "            if (i==j):\n",
    "                continue\n",
    "            temp *= (z-x[j])/(x[i]-x[j])\n",
    "        out += y[i]*temp\n",
    "    return out\n",
    "\n",
    "x = [0.1,0.2,0.5,0.,1.]\n",
    "y = [1.,2.,3.,4.,5.]\n",
    "\n",
    "xs = np.linspace(-0.1,1.1,100)\n",
    "ys = [legendre(xx,x,y) for xx in xs]\n",
    "plt.plot(x,y,'.')\n",
    "plt.plot(xs,ys)\n",
    "plt.grid()"
   ]
  },
  {
   "cell_type": "markdown",
   "metadata": {},
   "source": [
    "###Problem 5)  (100)"
   ]
  },
  {
   "cell_type": "markdown",
   "metadata": {
    "collapsed": true
   },
   "source": [
    "5.1) (70 points)Use trapezoid rule with 100 subdivision to find the following calculate the following integral.\n",
    "\n",
    "$$ \\int\\limits_{x=1}^{x=2} \\frac{1}{x^5} \\; dx$$"
   ]
  },
  {
   "cell_type": "code",
   "execution_count": 53,
   "metadata": {
    "collapsed": false
   },
   "outputs": [
    {
     "name": "stdout",
     "output_type": "stream",
     "text": [
      "0.23441601272\n"
     ]
    }
   ],
   "source": [
    "def f(x):\n",
    "    return 1./(x**5.)\n",
    "\n",
    "def trap(a,b,n):\n",
    "    h = (b-a)/n\n",
    "    sum = (f(a)+f(b))/2.\n",
    "    for i in range(1,n):\n",
    "        sum += f(a+(i*h))\n",
    "    return h*sum\n",
    "\n",
    "print trap(1.,2.,100)"
   ]
  },
  {
   "cell_type": "markdown",
   "metadata": {},
   "source": [
    "5.2) (15 points)What is bound on **truncation error** for your answer in 3.1)"
   ]
  },
  {
   "cell_type": "code",
   "execution_count": 54,
   "metadata": {
    "collapsed": false
   },
   "outputs": [
    {
     "name": "stdout",
     "output_type": "stream",
     "text": [
      "0.00025\n"
     ]
    }
   ],
   "source": [
    "def fdd(x):\n",
    "    return 30.*(x**-7.)\n",
    "\n",
    "print ((1./12.)*((2.-1.)**3)*(fdd(1)))/(100**2)"
   ]
  },
  {
   "cell_type": "markdown",
   "metadata": {},
   "source": [
    "5.3) (15 points) How many subdivision do we need to make sure that our answer is at most $10^{-6}$ from the real answer?"
   ]
  },
  {
   "cell_type": "code",
   "execution_count": 57,
   "metadata": {
    "collapsed": false
   },
   "outputs": [
    {
     "name": "stdout",
     "output_type": "stream",
     "text": [
      "1582\n"
     ]
    }
   ],
   "source": [
    "def fdd(x):\n",
    "    return 30.*(x**-7.)\n",
    "\n",
    "def sub(b):\n",
    "    n = 1\n",
    "    error = ((1./12.)*((2.-1.)**3)*(fdd(1)))/(n**2)\n",
    "    while (abs(error)>b):\n",
    "        n += 1\n",
    "        error = ((1./12.)*((2.-1.)**3)*(fdd(1)))/(n**2)\n",
    "    return n\n",
    "\n",
    "print sub(10**-6)"
   ]
  },
  {
   "cell_type": "markdown",
   "metadata": {},
   "source": [
    "###Problem 6) (100)"
   ]
  },
  {
   "cell_type": "markdown",
   "metadata": {
    "collapsed": true
   },
   "source": [
    "6.1) (100) Fit these data point with a straight line. Plot the data point along with the fitted line."
   ]
  },
  {
   "cell_type": "code",
   "execution_count": 69,
   "metadata": {
    "collapsed": false
   },
   "outputs": [
    {
     "data": {
      "text/plain": [
       "[<matplotlib.lines.Line2D at 0x112612c10>]"
      ]
     },
     "execution_count": 69,
     "metadata": {},
     "output_type": "execute_result"
    },
    {
     "data": {
      "image/png": "[encoded data removed]",
      "text/plain": [
       "<matplotlib.figure.Figure at 0x1120eb7d0>"
      ]
     },
     "metadata": {},
     "output_type": "display_data"
    }
   ],
   "source": [
    "def e(x):\n",
    "    return np.sum(x)/len(x)\n",
    "\n",
    "def cov(x,y):\n",
    "    return (e(x*y)-(e(x)*e(y)))\n",
    "\n",
    "def var(x):\n",
    "    return (e(x**2)-(e(x)**2))\n",
    "\n",
    "np.random.seed(31453)\n",
    "n = 100\n",
    "x = np.linspace(2,10,n)\n",
    "y = 2.2222 * x + 3.3333 + np.random.randn(n)*2\n",
    "\n",
    "a = cov(x,y)/var(x)\n",
    "b = e(y) - a*e(x)\n",
    "ys = [(a*xx)+b for xx in x]\n",
    "plt.plot(x,y,'.')\n",
    "plt.plot(x,ys)"
   ]
  },
  {
   "cell_type": "code",
   "execution_count": null,
   "metadata": {
    "collapsed": true
   },
   "outputs": [],
   "source": []
  },
  {
   "cell_type": "markdown",
   "metadata": {},
   "source": [
    "###Problem 7) (100)"
   ]
  },
  {
   "cell_type": "markdown",
   "metadata": {},
   "source": [
    "7) Do the semicircle problem from scratch."
   ]
  },
  {
   "cell_type": "code",
   "execution_count": null,
   "metadata": {
    "collapsed": true
   },
   "outputs": [],
   "source": []
  },
  {
   "cell_type": "markdown",
   "metadata": {},
   "source": [
    "###Problem 8)  (100)"
   ]
  },
  {
   "cell_type": "markdown",
   "metadata": {},
   "source": [
    "8) Previous Midterm. Problem 6."
   ]
  },
  {
   "cell_type": "code",
   "execution_count": null,
   "metadata": {
    "collapsed": true
   },
   "outputs": [],
   "source": []
  }
 ],
 "metadata": {
  "kernelspec": {
   "display_name": "Python 2",
   "language": "python",
   "name": "python2"
  },
  "language_info": {
   "codemirror_mode": {
    "name": "ipython",
    "version": 2
   },
   "file_extension": ".py",
   "mimetype": "text/x-python",
   "name": "python",
   "nbconvert_exporter": "python",
   "pygments_lexer": "ipython2",
   "version": "2.7.6"
  }
 },
 "nbformat": 4,
 "nbformat_minor": 0
}
