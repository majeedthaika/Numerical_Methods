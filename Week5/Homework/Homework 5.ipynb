{
 "cells": [
  {
   "cell_type": "markdown",
   "metadata": {},
   "source": [
    "#Homework 5"
   ]
  },
  {
   "cell_type": "code",
   "execution_count": 9,
   "metadata": {
    "collapsed": false
   },
   "outputs": [],
   "source": [
    "import numpy as np\n",
    "%matplotlib inline\n",
    "from matplotlib import pyplot as plt\n",
    "import math\n",
    "from math import exp"
   ]
  },
  {
   "cell_type": "markdown",
   "metadata": {},
   "source": [
    "1) If we use trapezoid rule to find the\n",
    "$$\\int \\limits_{x=1}^{3} e^{-x} \\; dx$$\n",
    "using $10$ pieces. What would be our value and what is our bound on error? Verify that you actual error is within the bound your got."
   ]
  },
  {
   "cell_type": "code",
   "execution_count": 4,
   "metadata": {
    "collapsed": false
   },
   "outputs": [
    {
     "name": "stdout",
     "output_type": "stream",
     "text": [
      "Value of trapezoid error estimate value = 0.00245252960781\n",
      "Bound on error: |Er| <= 0.00245252960781\n",
      "========================================================\n",
      "Actual implicit differentiation value = 0.318092372804\n",
      "Trapezoid estimation = 0.319151974514\n",
      "0.318092372804 - 0.319151974514\n",
      " = |-0.00105960170994| <= 0.00245252960781\n"
     ]
    }
   ],
   "source": [
    "b = 3.\n",
    "a = 1.\n",
    "n = 10.\n",
    "\n",
    "def f(x):\n",
    "    return exp(-x)\n",
    "\n",
    "def fi(x):\n",
    "    return -exp(-x)\n",
    "\n",
    "def trap(a,b,p):\n",
    "    h = (b-a)/p\n",
    "    sum = (f(a)+f(b))/2\n",
    "    for i in range(1,p):\n",
    "        sum += f(a+(i*h))\n",
    "    return sum*h\n",
    "\n",
    "# Max error term at x=1, f\"(1) = 1/e\n",
    "error = (1./12.)*(((b-a)**3)/(n**2))*(1./exp(1.))\n",
    "print \"Value of trapezoid error estimate value = \" + str(error)\n",
    "print \"Bound on error: |Er| <= \" + str(error)\n",
    "print \"========================================================\"\n",
    "actual = fi(3)-fi(1)\n",
    "trapezoid = trap(1.,3.,10)\n",
    "print \"Actual implicit differentiation value = \" + str(actual)\n",
    "print \"Trapezoid estimation = \" + str(trapezoid)\n",
    "print str(actual) + \" - \" + str(trapezoid)\n",
    "print \" = |\" + str(actual - trapezoid) + \"| <= \" + str(error)"
   ]
  },
  {
   "cell_type": "markdown",
   "metadata": {},
   "source": [
    "1.1) If we want to evaluate the integral in the previous question such that the answer is at most $10^{-6}$ from the real answer. How many pieces do we need?"
   ]
  },
  {
   "cell_type": "code",
   "execution_count": 7,
   "metadata": {
    "collapsed": false
   },
   "outputs": [
    {
     "name": "stdout",
     "output_type": "stream",
     "text": [
      "To have an answer at most 10^-6 from the real answer, we need 496 pieces.\n"
     ]
    }
   ],
   "source": [
    "def pieces(error):\n",
    "    n = 1\n",
    "    bound = abs((1./12.)*(((b-a)**3.)/(n**2.))*(1./exp(1.)))\n",
    "    while (bound>=error):\n",
    "        n+=1\n",
    "        bound = abs((1./12.)*(((b-a)**3.)/(n**2.))*(1./exp(1.)))\n",
    "    return n\n",
    "\n",
    "needed = pieces(10**-6)\n",
    "print \"To have an answer at most 10^-6 from the real answer, we need \" + str(needed) + \" pieces.\""
   ]
  },
  {
   "cell_type": "markdown",
   "metadata": {},
   "source": [
    "2) Simple linear regression. Fit the data in `prob2.txt` with a straight line. Plot to verify."
   ]
  },
  {
   "cell_type": "code",
   "execution_count": 27,
   "metadata": {
    "collapsed": false
   },
   "outputs": [
    {
     "data": {
      "image/png": "[encoded data removed]",
      "text/plain": [
       "<matplotlib.figure.Figure at 0x1048e4b90>"
      ]
     },
     "metadata": {},
     "output_type": "display_data"
    }
   ],
   "source": [
    "x, y = np.loadtxt('prob2.txt')\n",
    "\n",
    "def cov(x,y):\n",
    "    return e(x*y)-(e(x)*e(y))\n",
    "\n",
    "def var(x):\n",
    "    return e(x**2)-(e(x)**2)\n",
    "\n",
    "def e(x):\n",
    "    return np.sum(x)/len(x)\n",
    "    \n",
    "def equation(x,y):\n",
    "    a = cov(x,y)/var(x)\n",
    "    b = e(y)-(a*e(x))\n",
    "    return a,b\n",
    "\n",
    "a,b = equation(x,y)\n",
    "y2 = [(a*xx)+b for xx in x]\n",
    "plt.plot(x,y,'.')\n",
    "plt.plot(x,y2)\n",
    "plt.grid()"
   ]
  },
  {
   "cell_type": "markdown",
   "metadata": {},
   "source": [
    "3) Simpson's rule. In the class, we learn how to use trapezoid rule to numerically the integral. In this problem you will find a better rule to evaluate the integral.\n",
    "\n",
    "You will show this in the next problem that\n",
    "\n",
    "$$\\int \\limits_{x=a}^{a+nh} f(x) \\; dx \\approx \\frac{h}{3} \\left(  f(x_0) + 4 \\sum^{n-1}_{i=1,3,5\\ldots} f(x_i) + 2 \\sum^{n-2}_{j=2,4,6\\ldots} f(x_j)+ f(x_n)\\right) $$\n",
    "\n",
    "where $x_i = a+ih$.\n",
    "\n",
    "\n"
   ]
  },
  {
   "cell_type": "markdown",
   "metadata": {},
   "source": [
    "3.1) Use Simpson's Rule described above to find\n",
    "\n",
    "$$\\int \\limits_{x=1}^{3} e^{-x} \\; dx$$\n",
    "\n",
    "using n = 10. This is the same integral as the one in problem 1."
   ]
  },
  {
   "cell_type": "code",
   "execution_count": 30,
   "metadata": {
    "collapsed": false
   },
   "outputs": [
    {
     "name": "stdout",
     "output_type": "stream",
     "text": [
      "Integral value using Simpson's Rule = 0.318095186883\n"
     ]
    }
   ],
   "source": [
    "def f(x):\n",
    "    return exp(-x)\n",
    "\n",
    "def simpson(a,b,n):\n",
    "    h = (b-a)/n\n",
    "    res = f(a)+f(b)\n",
    "    for i in range(1,n):\n",
    "        if (i%2==1):\n",
    "            res += 4.*f(a+(i*h))\n",
    "        else:\n",
    "            res += 2.*f(a+(i*h))\n",
    "    return res*(h/3.)\n",
    "\n",
    "ans = simpson(1.,3.,10)\n",
    "print \"Integral value using Simpson's Rule = \" + str(ans)"
   ]
  },
  {
   "cell_type": "markdown",
   "metadata": {},
   "source": [
    "Now we will try to understand why the formula shown above works. The key idea is that instead of approximating the area under the curve using trapezoid shape. We will use parabola to approximate the shape. Let us consider a curve $f(x)$ that we want to integrate\n",
    "\n",
    "$$\\int \\limits_{x=a}^{x=a+2h} f(x) \\;dx$$\n",
    "\n",
    "We will use parabola to approximate the area. This parabola will have to pass through three points.\n",
    "    $$[x, f(x)], [x+h, f(x+h)], [x+2h, f(x+2h)]$$\n",
    "    \n",
    "Concretely, suppose that we want to calculate\n",
    "\n",
    "$$\\int \\limits_{x=1}^{x=3} e^{-x} \\;dx $$\n",
    "\n",
    "with $h=1$. The parabola is shown below."
   ]
  },
  {
   "cell_type": "code",
   "execution_count": 132,
   "metadata": {
    "collapsed": false
   },
   "outputs": [
    {
     "data": {
      "text/plain": [
       "<matplotlib.legend.Legend at 0x114407310>"
      ]
     },
     "execution_count": 132,
     "metadata": {},
     "output_type": "execute_result"
    },
    {
     "data": {
      "image/png": "[encoded data removed]",
      "text/plain": [
       "<matplotlib.figure.Figure at 0x1130f21d0>"
      ]
     },
     "metadata": {},
     "output_type": "display_data"
    }
   ],
   "source": [
    "def f(x):\n",
    "    return math.exp(-x)\n",
    "#let h = 1\n",
    "#we are interested in parabola that passes through\n",
    "#(1, e^-1), (2, e^-2), (3, e^-3)\n",
    "#We can us Legendre Polynomail for this.\n",
    "def poly(x):\n",
    "    #legendre polynomial that passes through (1, e^-1), (2, e^-2), (3, e^-3)\n",
    "    return 0.74742 - 0.453038*x + 0.073498*x**2\n",
    "\n",
    "x = np.linspace(1, 3,100)\n",
    "ty = [f(xx) for xx in x]\n",
    "py = [poly(xx) for xx in x]\n",
    "plt.plot(x, ty, label='f(x)')\n",
    "plt.plot(x,py, label='legendre')\n",
    "plt.plot([1,2,3],[exp(-1),exp(-2),exp(-3)],'o',label=('x, x+h, x+2h'))\n",
    "plt.xlim(0.9,3.1)\n",
    "plt.grid()\n",
    "plt.legend(loc='upper right')"
   ]
  },
  {
   "cell_type": "markdown",
   "metadata": {
    "collapsed": true
   },
   "source": [
    "3.2)From the picture above we can estimate the area of the blue curve using the area under the green parabola. This approximation is much better than trapezoid one since it capture some of the curvature of the curve.\n",
    "\n",
    "Your job is\n",
    "\n",
    " 1. Find the polynomial of degree two that passes through \n",
    " \n",
    " $$[x,f(x)], [x+h, f(x+h)], [x+2h, f(x+2h)]$$\n",
    " \n",
    " 2. Show that the area under the polynomial you found ealirer is\n",
    " \n",
    " $$ A = \\frac{h}{3} \\left[f(x)+4 f(x+h) + f(x+2h) \\right] $$\n",
    " \n",
    " All you need to do is to find whatever you got in 1) analytically. Use Wolfram Alpha or Mathematica if needed."
   ]
  },
  {
   "cell_type": "code",
   "execution_count": 1,
   "metadata": {
    "collapsed": false
   },
   "outputs": [
    {
     "name": "stdout",
     "output_type": "stream",
     "text": [
      "====Answer to 3.2.1 and 3.2.2 in accompanied pdf====\n"
     ]
    }
   ],
   "source": [
    "print \"====Answer to 3.2.1 and 3.2.2 in accompanied pdf====\""
   ]
  },
  {
   "cell_type": "markdown",
   "metadata": {
    "collapsed": true
   },
   "source": [
    "3.3) Use what you found in 3.2. To show that if you subdivide the interval $[a,b]$ into $n$(even number) subdivision each one with with $h$ and we approximate the area of each two pieces using legendre polynomial as we have done in 3.1, we will find that\n",
    "\n",
    "$$\\int \\limits_{x=a}^{a+nh} f(x) \\; dx \\approx \\frac{h}{3} \\left(  f(x_0) + 4 \\sum^{n-1}_{i=1,3,5\\ldots} f(x_i) + 2 \\sum^{n-2}_{j=2,4,6\\ldots} f(x_j)+ f(x_n)\\right) $$\n",
    "\n",
    "This formula is called Simpson's 1/3 rule. It converges with $O(1/n^4)$. Much faster than Trapezoid. Proving this convergence behavior is similar to how we get one for trapezoid but the algebra is a lot more involved."
   ]
  },
  {
   "cell_type": "code",
   "execution_count": 2,
   "metadata": {
    "collapsed": false
   },
   "outputs": [
    {
     "name": "stdout",
     "output_type": "stream",
     "text": [
      "====Answer to 3.3 in accompanied pdf====\n"
     ]
    }
   ],
   "source": [
    "print \"====Answer to 3.3 in accompanied pdf====\""
   ]
  },
  {
   "cell_type": "markdown",
   "metadata": {},
   "source": [
    "4) Load the data in `prob4.txt`. We want to fit this data with the following function \n",
    "\n",
    "$$f(x) = a \\exp(-x) + c$$\n",
    "\n",
    "where $a$ and $c$ are parameters. \n",
    "\n",
    "Find the $a$ and $c$ that give you the \"best fit\".\n",
    "\n",
    "Make a plot to verify the answer."
   ]
  },
  {
   "cell_type": "code",
   "execution_count": 40,
   "metadata": {
    "collapsed": false
   },
   "outputs": [
    {
     "data": {
      "image/png": "[encoded data removed]",
      "text/plain": [
       "<matplotlib.figure.Figure at 0x1120a2590>"
      ]
     },
     "metadata": {},
     "output_type": "display_data"
    }
   ],
   "source": [
    "x, y = np.loadtxt('prob4.txt')\n",
    "\n",
    "def e(x):\n",
    "    return np.sum(x)/len(x)\n",
    "\n",
    "def cov(x,y):\n",
    "    return e(x*y)-(e(x)*e(y))\n",
    "\n",
    "def var(x):\n",
    "    return e(x**2)-(e(x)**2)\n",
    "    \n",
    "def equation(x,y):\n",
    "    a = cov(x,y)/var(x)\n",
    "    c = e(y)-(a*e(x))\n",
    "    return a,c\n",
    "\n",
    "a,c = equation(np.exp(-x),y)\n",
    "\n",
    "plt.plot(x,y,'.')\n",
    "x.sort()\n",
    "y2 = [(a*exp(-xx))+c for xx in x]\n",
    "plt.plot(x,y2,lw=2)\n",
    "plt.grid()"
   ]
  },
  {
   "cell_type": "markdown",
   "metadata": {},
   "source": [
    "5) Shipyard. ship_speed_fuel.csv and ship_speed_fuel.txt contains data for fuel consumption and ship speed. You can load them up using loadtxt like shown below.\n",
    "\n",
    "    Variable Names\n",
    "    ship_leg (1-5)\n",
    "    speed    (knots)\n",
    "    fuel     (tons/day)\n",
    "    \n",
    "The plot below show clearly that there are two kinds of ship: small ship and a big ship. \n",
    "\n",
    "Source: S.Wang, Q. Meng (2012). \"Sailing Speed Optimization for Container\n",
    "Ships in a Liner Shipping Network,\" "
   ]
  },
  {
   "cell_type": "code",
   "execution_count": 42,
   "metadata": {
    "collapsed": false
   },
   "outputs": [
    {
     "data": {
      "text/plain": [
       "[<matplotlib.lines.Line2D at 0x1120d6390>]"
      ]
     },
     "execution_count": 42,
     "metadata": {},
     "output_type": "execute_result"
    },
    {
     "data": {
      "image/png": "[encoded data removed]",
      "text/plain": [
       "<matplotlib.figure.Figure at 0x11206add0>"
      ]
     },
     "metadata": {},
     "output_type": "display_data"
    }
   ],
   "source": [
    "ship = np.loadtxt(open(\"ship_speed_fuel.csv\",\"rb\"), delimiter=',', skiprows=1)\n",
    "#try to figure out what exactly is in the ship variable\n",
    "#see ship_speed_fuel.text for the meaning of each column\n",
    "shipno = ship[:, 0]\n",
    "speed = ship[:, 1]\n",
    "fuel = ship[:, 2]\n",
    "plt.plot(speed, fuel,'.')"
   ]
  },
  {
   "cell_type": "markdown",
   "metadata": {},
   "source": [
    "5.1) Physics dictates that the bigger the ship the more power it needs to maintain a fixed speed. Figure out which ship 1,2,3,4,5 is a big ship and which ship is a small ship."
   ]
  },
  {
   "cell_type": "code",
   "execution_count": 95,
   "metadata": {
    "collapsed": false
   },
   "outputs": [
    {
     "name": "stdout",
     "output_type": "stream",
     "text": [
      "Small Ships are : [1, 2, 3]\n",
      "Big Ships are : [4, 5]\n"
     ]
    },
    {
     "data": {
      "text/plain": [
       "<matplotlib.legend.Legend at 0x113256b90>"
      ]
     },
     "execution_count": 95,
     "metadata": {},
     "output_type": "execute_result"
    },
    {
     "data": {
      "image/png": "[encoded data removed]",
      "text/plain": [
       "<matplotlib.figure.Figure at 0x11209a190>"
      ]
     },
     "metadata": {},
     "output_type": "display_data"
    }
   ],
   "source": [
    "def cov(x,y):\n",
    "    return e(x*y)-(e(x)*e(y))\n",
    "\n",
    "def var(x):\n",
    "    return e(x**2)-(e(x)**2)\n",
    "\n",
    "def e(x):\n",
    "    return np.sum(x)/len(x)\n",
    "    \n",
    "def equation(x,y):\n",
    "    a = cov(x,y)/var(x)\n",
    "    b = e(y)-(a*e(x))\n",
    "    return a,b\n",
    "\n",
    "shipno = ship[:, 0]\n",
    "speed = ship[:, 1]\n",
    "fuel = ship[:, 2]\n",
    "\n",
    "d = {0:0}\n",
    "for i in range(len(shipno)):\n",
    "    d[shipno[i]] = i+1\n",
    "\n",
    "big, small = [],[]\n",
    "threshold = 15.0\n",
    "for i in range(1,6):\n",
    "    x = []\n",
    "    y = []\n",
    "    for j in range(d[i-1],d[i]):\n",
    "        x.append(speed[j])\n",
    "        y.append(fuel[j])\n",
    "    x = np.array(x)\n",
    "    y = np.array(y)\n",
    "    a,b = equation(x,y)\n",
    "    plt.plot(x,y,'.',label=\"Ship\"+str(i))\n",
    "    if (a>threshold):\n",
    "        big.append(i)\n",
    "    else:\n",
    "        small.append(i)\n",
    "\n",
    "print \"Small Ships are : \" + str(small)\n",
    "print \"Big Ships are : \" + str(big)\n",
    "plt.legend()"
   ]
  },
  {
   "cell_type": "markdown",
   "metadata": {},
   "source": [
    "5.2) The ship fuel consumption,$c$, for a given speed, $v$ can be modeled with\n",
    "\n",
    "$$c = a v^b$$\n",
    "\n",
    "where $a$ and $b$ are parameter you need to find for best fit.\n",
    "\n",
    "This relation, is however not linear. It nees some manipulation to make it linear. We can take $\\ln$ on both side and obtain\n",
    "\n",
    "$$\\ln c = b \\ln v + \\ln a$$\n",
    "\n",
    "which is a linear relation. Your job for this one is to find $a$ and $b$ for big ship and small ship. Plot to verify. (You should have two set of parameters one for big ship and one for small ship)."
   ]
  },
  {
   "cell_type": "code",
   "execution_count": 129,
   "metadata": {
    "collapsed": false
   },
   "outputs": [
    {
     "data": {
      "text/plain": [
       "<matplotlib.legend.Legend at 0x1142ccc50>"
      ]
     },
     "execution_count": 129,
     "metadata": {},
     "output_type": "execute_result"
    },
    {
     "data": {
      "image/png": "[encoded data removed]",
      "text/plain": [
       "<matplotlib.figure.Figure at 0x1141d4750>"
      ]
     },
     "metadata": {},
     "output_type": "display_data"
    }
   ],
   "source": [
    "def cov(x,y):\n",
    "    return e(x*y)-(e(x)*e(y))\n",
    "\n",
    "def var(x):\n",
    "    return e(x**2)-(e(x)**2)\n",
    "\n",
    "def e(x):\n",
    "    return np.sum(x)/len(x)\n",
    "    \n",
    "def equation(x,y):\n",
    "    a = cov(x,y)/var(x)\n",
    "    b = e(y)-(a*e(x))\n",
    "    return a,b\n",
    "\n",
    "shipno = ship[:, 0]\n",
    "speed = ship[:, 1]\n",
    "fuel = ship[:, 2]\n",
    "\n",
    "cb, cs = [],[]\n",
    "vb, vs = [],[]\n",
    "\n",
    "for j in range(60):\n",
    "    cs.append(speed[j])\n",
    "    vs.append(fuel[j])\n",
    "    \n",
    "for k in range(60,100):\n",
    "    cb.append(speed[k])\n",
    "    vb.append(fuel[k])\n",
    "\n",
    "xs = np.array(np.log(vs))\n",
    "ys = np.array(np.log(cs))\n",
    "bs,ln_as = equation(xs,ys)\n",
    "\n",
    "xb = np.array(np.log(vb))\n",
    "yb = np.array(np.log(cb))\n",
    "bb,ln_ab = equation(xb,yb)\n",
    "\n",
    "plt.plot(xs,ys,'x')\n",
    "plt.plot(xb,yb,'x')\n",
    "\n",
    "xs.sort()\n",
    "xb.sort()\n",
    "yss = [((bs*xx)+ln_as) for xx in xs]\n",
    "ybb = [((bb*xx)+ln_ab) for xx in xb]\n",
    "\n",
    "plt.plot(xs,yss, label=\"Small Ships\")\n",
    "plt.plot(xb,ybb, label=\"Big Ships\")\n",
    "\n",
    "plt.ylim(2.7,3.3)\n",
    "plt.legend()"
   ]
  },
  {
   "cell_type": "markdown",
   "metadata": {},
   "source": [
    "5.3) (Optional, for fun only.) Suppose that he small ship can carry 1000 tons of good while big ship can carry 2000 tons of good. The cost of ship fuel(bunker) is about 250 Dollar per metric tons. Company normally charge about 0.10 Dollar per ton of good per mile travel.\n",
    "\n",
    "The faster your ship goes the more trip you can make the more revenue you can get. Yet, at the same time the trip will cost you more cost on fuel.\n",
    "\n",
    "Your job is to figure out what speed you need to run the ship at for maximum profit and which ship is better for you."
   ]
  },
  {
   "cell_type": "code",
   "execution_count": null,
   "metadata": {
    "collapsed": true
   },
   "outputs": [],
   "source": []
  }
 ],
 "metadata": {
  "kernelspec": {
   "display_name": "Python 2",
   "language": "python",
   "name": "python2"
  },
  "language_info": {
   "codemirror_mode": {
    "name": "ipython",
    "version": 2
   },
   "file_extension": ".py",
   "mimetype": "text/x-python",
   "name": "python",
   "nbconvert_exporter": "python",
   "pygments_lexer": "ipython2",
   "version": "2.7.6"
  }
 },
 "nbformat": 4,
 "nbformat_minor": 0
}
