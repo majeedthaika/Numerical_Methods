{
 "cells": [
  {
   "cell_type": "code",
   "execution_count": 2,
   "metadata": {
    "collapsed": true
   },
   "outputs": [],
   "source": [
    "%matplotlib inline\n",
    "from matplotlib import pyplot as plt\n",
    "import numpy as np\n",
    "import math"
   ]
  },
  {
   "cell_type": "markdown",
   "metadata": {},
   "source": [
    "####1) Easy Stuff"
   ]
  },
  {
   "cell_type": "markdown",
   "metadata": {},
   "source": [
    "1.1) Use gaussian elimination to solve the following system of equations. You can do it by hands. No need to implement one.\n",
    "\n",
    "$$\n",
    "\\begin{bmatrix}\n",
    "-1 & 2 & 1 \\\\\n",
    "2 & 3 & 4 \\\\\n",
    "10 & -5 & 2\n",
    "\\end{bmatrix}\n",
    "\\begin{bmatrix}\n",
    "x\\\\\n",
    "y \\\\\n",
    "z\n",
    "\\end{bmatrix}\n",
    "=\n",
    "\\begin{bmatrix}\n",
    "2 \\\\\n",
    "6 \\\\\n",
    "22\n",
    "\\end{bmatrix}\n",
    "$$"
   ]
  },
  {
   "cell_type": "code",
   "execution_count": 3,
   "metadata": {
    "collapsed": false
   },
   "outputs": [
    {
     "name": "stdout",
     "output_type": "stream",
     "text": [
      "18.0 22.0 -24.0\n"
     ]
    }
   ],
   "source": [
    "A = [[-1.,2.,1.],\n",
    "     [2.,3.,4.],\n",
    "     [10.,-5.,2.]]\n",
    "\n",
    "C = [2.,6.,22.]\n",
    "\n",
    "x,y,z = np.linalg.solve(A,C)\n",
    "\n",
    "print x,y,z"
   ]
  },
  {
   "cell_type": "markdown",
   "metadata": {},
   "source": [
    "1.2) Random number manipulation. \n",
    "\n",
    "Use np.random.rand() which generate uniform random real number from 0-1. To generate the following random number generator which generates"
   ]
  },
  {
   "cell_type": "markdown",
   "metadata": {},
   "source": [
    "1.2.1) A uniform random real number from 0-5."
   ]
  },
  {
   "cell_type": "code",
   "execution_count": 16,
   "metadata": {
    "collapsed": false
   },
   "outputs": [
    {
     "data": {
      "text/plain": [
       "(array([ 1035.,  1025.,  1000.,   968.,  1007.,  1040.,  1044.,  1038.,\n",
       "         1020.,   993.,  1008.,   973.,  1059.,  1002.,  1061.,   998.,\n",
       "         1010.,   959.,   965.,  1021.,   989.,  1031.,   968.,   974.,\n",
       "         1022.,   951.,  1044.,  1019.,   951.,  1011.,   990.,  1005.,\n",
       "          981.,  1029.,   988.,  1030.,   980.,  1038.,  1057.,   991.,\n",
       "         1013.,   993.,  1041.,   952.,   946.,   951.,   984.,   968.,\n",
       "         1052.,   995.,   968.,  1037.,   945.,   986.,   993.,  1011.,\n",
       "          967.,  1007.,  1039.,   931.,  1049.,  1012.,   997.,  1014.,\n",
       "         1027.,  1071.,   976.,   962.,  1015.,   975.,  1004.,  1027.,\n",
       "          992.,   984.,   947.,   981.,   957.,   969.,   998.,  1024.,\n",
       "          964.,  1013.,  1078.,   943.,   950.,  1023.,   941.,   971.,\n",
       "          952.,  1029.,   987.,  1046.,  1037.,  1035.,  1008.,  1045.,\n",
       "         1018.,   997.,   964.,   964.]),\n",
       " array([  1.90635401e-05,   5.00187356e-02,   1.00018408e-01,\n",
       "          1.50018080e-01,   2.00017752e-01,   2.50017424e-01,\n",
       "          3.00017096e-01,   3.50016768e-01,   4.00016440e-01,\n",
       "          4.50016112e-01,   5.00015784e-01,   5.50015456e-01,\n",
       "          6.00015128e-01,   6.50014800e-01,   7.00014472e-01,\n",
       "          7.50014144e-01,   8.00013816e-01,   8.50013488e-01,\n",
       "          9.00013160e-01,   9.50012832e-01,   1.00001250e+00,\n",
       "          1.05001218e+00,   1.10001185e+00,   1.15001152e+00,\n",
       "          1.20001119e+00,   1.25001086e+00,   1.30001054e+00,\n",
       "          1.35001021e+00,   1.40000988e+00,   1.45000955e+00,\n",
       "          1.50000922e+00,   1.55000890e+00,   1.60000857e+00,\n",
       "          1.65000824e+00,   1.70000791e+00,   1.75000758e+00,\n",
       "          1.80000726e+00,   1.85000693e+00,   1.90000660e+00,\n",
       "          1.95000627e+00,   2.00000594e+00,   2.05000562e+00,\n",
       "          2.10000529e+00,   2.15000496e+00,   2.20000463e+00,\n",
       "          2.25000430e+00,   2.30000398e+00,   2.35000365e+00,\n",
       "          2.40000332e+00,   2.45000299e+00,   2.50000266e+00,\n",
       "          2.55000234e+00,   2.60000201e+00,   2.65000168e+00,\n",
       "          2.70000135e+00,   2.75000102e+00,   2.80000070e+00,\n",
       "          2.85000037e+00,   2.90000004e+00,   2.94999971e+00,\n",
       "          2.99999938e+00,   3.04999906e+00,   3.09999873e+00,\n",
       "          3.14999840e+00,   3.19999807e+00,   3.24999774e+00,\n",
       "          3.29999742e+00,   3.34999709e+00,   3.39999676e+00,\n",
       "          3.44999643e+00,   3.49999610e+00,   3.54999578e+00,\n",
       "          3.59999545e+00,   3.64999512e+00,   3.69999479e+00,\n",
       "          3.74999447e+00,   3.79999414e+00,   3.84999381e+00,\n",
       "          3.89999348e+00,   3.94999315e+00,   3.99999283e+00,\n",
       "          4.04999250e+00,   4.09999217e+00,   4.14999184e+00,\n",
       "          4.19999151e+00,   4.24999119e+00,   4.29999086e+00,\n",
       "          4.34999053e+00,   4.39999020e+00,   4.44998987e+00,\n",
       "          4.49998955e+00,   4.54998922e+00,   4.59998889e+00,\n",
       "          4.64998856e+00,   4.69998823e+00,   4.74998791e+00,\n",
       "          4.79998758e+00,   4.84998725e+00,   4.89998692e+00,\n",
       "          4.94998659e+00,   4.99998627e+00]),\n",
       " <a list of 100 Patch objects>)"
      ]
     },
     "execution_count": 16,
     "metadata": {},
     "output_type": "execute_result"
    },
    {
     "data": {
      "image/png": "[encoded data removed]",
      "text/plain": [
       "<matplotlib.figure.Figure at 0x110877810>"
      ]
     },
     "metadata": {},
     "output_type": "display_data"
    }
   ],
   "source": [
    "x = np.random.rand(100000)*5\n",
    "plt.hist(x,bins=100)"
   ]
  },
  {
   "cell_type": "markdown",
   "metadata": {},
   "source": [
    "1.2.2) A uniform random real number from 100-500"
   ]
  },
  {
   "cell_type": "code",
   "execution_count": 17,
   "metadata": {
    "collapsed": false
   },
   "outputs": [
    {
     "data": {
      "text/plain": [
       "(array([  9890.,   9839.,   9904.,  10013.,  10185.,  10018.,  10041.,\n",
       "          9994.,  10038.,   9842.,  10062.,   9961.,   9890.,  10071.,\n",
       "          9755.,  10031.,  10158.,  10167.,  10105.,   9955.,   9936.,\n",
       "         10038.,   9997.,  10020.,   9895.,  10143.,  10028.,   9957.,\n",
       "         10002.,  10020.,  10031.,   9952.,   9804.,  10028.,  10026.,\n",
       "         10036.,   9831.,   9965.,  10009.,  10041.,  10085.,   9952.,\n",
       "         10093.,  10068.,   9944.,   9927.,   9834.,  10038.,  10122.,\n",
       "          9929.,   9959.,   9919.,   9857.,  10121.,  10131.,  10104.,\n",
       "          9995.,  10065.,   9990.,  10058.,  10038.,  10037.,  10061.,\n",
       "         10046.,   9895.,  10001.,  10135.,   9932.,  10123.,   9873.,\n",
       "         10150.,  10088.,  10056.,   9966.,  10044.,  10134.,   9979.,\n",
       "          9943.,  10091.,  10039.,   9914.,   9968.,   9953.,  10145.,\n",
       "          9925.,   9877.,   9871.,   9961.,  10006.,  10031.,   9920.,\n",
       "          9916.,  10091.,  10067.,   9829.,  10068.,  10103.,   9851.,\n",
       "          9966.,  10038.]),\n",
       " array([ 100.00000887,  103.99999648,  107.99998409,  111.99997169,\n",
       "         115.9999593 ,  119.99994691,  123.99993452,  127.99992213,\n",
       "         131.99990973,  135.99989734,  139.99988495,  143.99987256,\n",
       "         147.99986017,  151.99984777,  155.99983538,  159.99982299,\n",
       "         163.9998106 ,  167.99979821,  171.99978581,  175.99977342,\n",
       "         179.99976103,  183.99974864,  187.99973625,  191.99972385,\n",
       "         195.99971146,  199.99969907,  203.99968668,  207.99967429,\n",
       "         211.99966189,  215.9996495 ,  219.99963711,  223.99962472,\n",
       "         227.99961233,  231.99959993,  235.99958754,  239.99957515,\n",
       "         243.99956276,  247.99955037,  251.99953797,  255.99952558,\n",
       "         259.99951319,  263.9995008 ,  267.99948841,  271.99947601,\n",
       "         275.99946362,  279.99945123,  283.99943884,  287.99942645,\n",
       "         291.99941405,  295.99940166,  299.99938927,  303.99937688,\n",
       "         307.99936449,  311.99935209,  315.9993397 ,  319.99932731,\n",
       "         323.99931492,  327.99930253,  331.99929013,  335.99927774,\n",
       "         339.99926535,  343.99925296,  347.99924057,  351.99922817,\n",
       "         355.99921578,  359.99920339,  363.999191  ,  367.99917861,\n",
       "         371.99916621,  375.99915382,  379.99914143,  383.99912904,\n",
       "         387.99911665,  391.99910425,  395.99909186,  399.99907947,\n",
       "         403.99906708,  407.99905469,  411.99904229,  415.9990299 ,\n",
       "         419.99901751,  423.99900512,  427.99899273,  431.99898033,\n",
       "         435.99896794,  439.99895555,  443.99894316,  447.99893077,\n",
       "         451.99891837,  455.99890598,  459.99889359,  463.9988812 ,\n",
       "         467.9988688 ,  471.99885641,  475.99884402,  479.99883163,\n",
       "         483.99881924,  487.99880684,  491.99879445,  495.99878206,\n",
       "         499.99876967]),\n",
       " <a list of 100 Patch objects>)"
      ]
     },
     "execution_count": 17,
     "metadata": {},
     "output_type": "execute_result"
    },
    {
     "data": {
      "image/png": "[encoded data removed]",
      "text/plain": [
       "<matplotlib.figure.Figure at 0x110aca6d0>"
      ]
     },
     "metadata": {},
     "output_type": "display_data"
    }
   ],
   "source": [
    "x = (np.random.rand(1000000)*400)+100\n",
    "plt.hist(x,bins=100)"
   ]
  },
  {
   "cell_type": "markdown",
   "metadata": {},
   "source": [
    "1.2.3) A random ** integer ** which gives -1 50% of the time and  1 50% of the time."
   ]
  },
  {
   "cell_type": "code",
   "execution_count": 19,
   "metadata": {
    "collapsed": false
   },
   "outputs": [
    {
     "data": {
      "text/plain": [
       "(array([ 500219.,       0.,       0.,       0.,       0.,       0.,\n",
       "              0.,       0.,       0.,       0.,       0.,       0.,\n",
       "              0.,       0.,       0.,       0.,       0.,       0.,\n",
       "              0.,       0.,       0.,       0.,       0.,       0.,\n",
       "              0.,       0.,       0.,       0.,       0.,       0.,\n",
       "              0.,       0.,       0.,       0.,       0.,       0.,\n",
       "              0.,       0.,       0.,       0.,       0.,       0.,\n",
       "              0.,       0.,       0.,       0.,       0.,       0.,\n",
       "              0.,       0.,       0.,       0.,       0.,       0.,\n",
       "              0.,       0.,       0.,       0.,       0.,       0.,\n",
       "              0.,       0.,       0.,       0.,       0.,       0.,\n",
       "              0.,       0.,       0.,       0.,       0.,       0.,\n",
       "              0.,       0.,       0.,       0.,       0.,       0.,\n",
       "              0.,       0.,       0.,       0.,       0.,       0.,\n",
       "              0.,       0.,       0.,       0.,       0.,       0.,\n",
       "              0.,       0.,       0.,       0.,       0.,       0.,\n",
       "              0.,       0.,       0.,  499781.]),\n",
       " array([-1.  , -0.98, -0.96, -0.94, -0.92, -0.9 , -0.88, -0.86, -0.84,\n",
       "        -0.82, -0.8 , -0.78, -0.76, -0.74, -0.72, -0.7 , -0.68, -0.66,\n",
       "        -0.64, -0.62, -0.6 , -0.58, -0.56, -0.54, -0.52, -0.5 , -0.48,\n",
       "        -0.46, -0.44, -0.42, -0.4 , -0.38, -0.36, -0.34, -0.32, -0.3 ,\n",
       "        -0.28, -0.26, -0.24, -0.22, -0.2 , -0.18, -0.16, -0.14, -0.12,\n",
       "        -0.1 , -0.08, -0.06, -0.04, -0.02,  0.  ,  0.02,  0.04,  0.06,\n",
       "         0.08,  0.1 ,  0.12,  0.14,  0.16,  0.18,  0.2 ,  0.22,  0.24,\n",
       "         0.26,  0.28,  0.3 ,  0.32,  0.34,  0.36,  0.38,  0.4 ,  0.42,\n",
       "         0.44,  0.46,  0.48,  0.5 ,  0.52,  0.54,  0.56,  0.58,  0.6 ,\n",
       "         0.62,  0.64,  0.66,  0.68,  0.7 ,  0.72,  0.74,  0.76,  0.78,\n",
       "         0.8 ,  0.82,  0.84,  0.86,  0.88,  0.9 ,  0.92,  0.94,  0.96,\n",
       "         0.98,  1.  ]),\n",
       " <a list of 100 Patch objects>)"
      ]
     },
     "execution_count": 19,
     "metadata": {},
     "output_type": "execute_result"
    },
    {
     "data": {
      "image/png": "[encoded data removed]",
      "text/plain": [
       "<matplotlib.figure.Figure at 0x110ad9950>"
      ]
     },
     "metadata": {},
     "output_type": "display_data"
    }
   ],
   "source": [
    "x = np.random.rand(1000000)\n",
    "for i in range(len(x)):\n",
    "    if (x[i]<0.5):\n",
    "        x[i] = -1\n",
    "    else:\n",
    "        x[i] = 1\n",
    "plt.hist(x,bins=100)"
   ]
  },
  {
   "cell_type": "markdown",
   "metadata": {},
   "source": [
    "1.2.4) A random ** integer ** which gives -1 20% of the time and  0 30% and 1 50% of the time."
   ]
  },
  {
   "cell_type": "code",
   "execution_count": 20,
   "metadata": {
    "collapsed": false,
    "scrolled": true
   },
   "outputs": [
    {
     "data": {
      "text/plain": [
       "(array([ 199998.,       0.,       0.,       0.,       0.,       0.,\n",
       "              0.,       0.,       0.,       0.,       0.,       0.,\n",
       "              0.,       0.,       0.,       0.,       0.,       0.,\n",
       "              0.,       0.,       0.,       0.,       0.,       0.,\n",
       "              0.,       0.,       0.,       0.,       0.,       0.,\n",
       "              0.,       0.,       0.,       0.,       0.,       0.,\n",
       "              0.,       0.,       0.,       0.,       0.,       0.,\n",
       "              0.,       0.,       0.,       0.,       0.,       0.,\n",
       "              0.,       0.,  300652.,       0.,       0.,       0.,\n",
       "              0.,       0.,       0.,       0.,       0.,       0.,\n",
       "              0.,       0.,       0.,       0.,       0.,       0.,\n",
       "              0.,       0.,       0.,       0.,       0.,       0.,\n",
       "              0.,       0.,       0.,       0.,       0.,       0.,\n",
       "              0.,       0.,       0.,       0.,       0.,       0.,\n",
       "              0.,       0.,       0.,       0.,       0.,       0.,\n",
       "              0.,       0.,       0.,       0.,       0.,       0.,\n",
       "              0.,       0.,       0.,  499350.]),\n",
       " array([-1.  , -0.98, -0.96, -0.94, -0.92, -0.9 , -0.88, -0.86, -0.84,\n",
       "        -0.82, -0.8 , -0.78, -0.76, -0.74, -0.72, -0.7 , -0.68, -0.66,\n",
       "        -0.64, -0.62, -0.6 , -0.58, -0.56, -0.54, -0.52, -0.5 , -0.48,\n",
       "        -0.46, -0.44, -0.42, -0.4 , -0.38, -0.36, -0.34, -0.32, -0.3 ,\n",
       "        -0.28, -0.26, -0.24, -0.22, -0.2 , -0.18, -0.16, -0.14, -0.12,\n",
       "        -0.1 , -0.08, -0.06, -0.04, -0.02,  0.  ,  0.02,  0.04,  0.06,\n",
       "         0.08,  0.1 ,  0.12,  0.14,  0.16,  0.18,  0.2 ,  0.22,  0.24,\n",
       "         0.26,  0.28,  0.3 ,  0.32,  0.34,  0.36,  0.38,  0.4 ,  0.42,\n",
       "         0.44,  0.46,  0.48,  0.5 ,  0.52,  0.54,  0.56,  0.58,  0.6 ,\n",
       "         0.62,  0.64,  0.66,  0.68,  0.7 ,  0.72,  0.74,  0.76,  0.78,\n",
       "         0.8 ,  0.82,  0.84,  0.86,  0.88,  0.9 ,  0.92,  0.94,  0.96,\n",
       "         0.98,  1.  ]),\n",
       " <a list of 100 Patch objects>)"
      ]
     },
     "execution_count": 20,
     "metadata": {},
     "output_type": "execute_result"
    },
    {
     "data": {
      "image/png": "[encoded data removed]",
      "text/plain": [
       "<matplotlib.figure.Figure at 0x111ca9750>"
      ]
     },
     "metadata": {},
     "output_type": "display_data"
    }
   ],
   "source": [
    "x = np.random.rand(1000000)\n",
    "for i in range(len(x)):\n",
    "    if (x[i]<0.2):\n",
    "        x[i] = -1\n",
    "    elif (x[i]<0.5):\n",
    "        x[i] = 0\n",
    "    else:\n",
    "        x[i] = 1\n",
    "plt.hist(x,bins=100)"
   ]
  },
  {
   "cell_type": "markdown",
   "metadata": {},
   "source": [
    "#### 2) System of Non-linear Equations"
   ]
  },
  {
   "cell_type": "markdown",
   "metadata": {},
   "source": [
    "Find a solution to the following system of non linear equations using Newton's Method.\n",
    "$$x^2 + y^2 = 26.9165$$\n",
    "$$xy + x^2 = 22.8278$$"
   ]
  },
  {
   "cell_type": "code",
   "execution_count": 22,
   "metadata": {
    "collapsed": false
   },
   "outputs": [],
   "source": [
    "u = lambda x,y: (x**2)+(y**2)-26.9165\n",
    "v = lambda x,y: (x*y)+(x**2)-22.8278\n",
    "\n",
    "ux = lambda x,y: (2.*x)\n",
    "uy = lambda x,y: (2.*y)\n",
    "vx = lambda x,y: y+(2.*x)\n",
    "vy = lambda x,y: x\n",
    "\n",
    "def uNewt(x,y,n):\n",
    "    for i in range(n):\n",
    "        A = np.array([\n",
    "            [vx(x,y),vy(x,y)], \n",
    "            [ux(x,y),uy(x,y)]\n",
    "        ])\n",
    "        C = np.array([\n",
    "            (-v(x,y))+(vx(x,y)*x)+(vy(x,y)*y),\n",
    "            (-u(x,y))+(ux(x,y)*x)+(uy(x,y)*y)\n",
    "        ])\n",
    "        xn, yn = np.linalg.solve(A,C)\n",
    "        x, y = xn, yn\n",
    "    return x, y"
   ]
  },
  {
   "cell_type": "code",
   "execution_count": 26,
   "metadata": {
    "collapsed": false
   },
   "outputs": [
    {
     "name": "stdout",
     "output_type": "stream",
     "text": [
      "(3.1400000000000001, 4.1299999999999999)\n",
      "(5.1406662992262007, -0.70003571337468173)\n",
      "(-3.1400000000000001, -4.1299999999999999)\n",
      "(-5.1406662992262007, 0.70003571337468173)\n"
     ]
    },
    {
     "data": {
      "image/png": "[encoded data removed]",
      "text/plain": [
       "<matplotlib.figure.Figure at 0x111e8cb90>"
      ]
     },
     "metadata": {},
     "output_type": "display_data"
    }
   ],
   "source": [
    "soln1 = uNewt(3.,5.,10)\n",
    "soln2 = uNewt(5.,0.,10)\n",
    "soln3 = uNewt(-3.,-5.,10)\n",
    "soln4 = uNewt(-5.,0.,10)\n",
    "print soln1\n",
    "print soln2\n",
    "print soln3\n",
    "print soln4\n",
    "\n",
    "nx = 200\n",
    "ny = 200\n",
    "x = np.linspace(-20,20,nx)\n",
    "y = np.linspace(-20,20,ny)\n",
    "xgrid, ygrid = np.meshgrid(x, y)\n",
    "uz = np.zeros((nx,ny))\n",
    "vz = np.zeros((nx,ny))\n",
    "for ix in range(nx):\n",
    "    for iy in range(ny):\n",
    "        xx = x[ix]\n",
    "        yy = y[iy]\n",
    "        uz[iy,ix] = u(xx,yy) ##<<<<<<This is not a typo: [iy,ix]\n",
    "        vz[iy,ix] = v(xx,yy)\n",
    "\n",
    "ucs = plt.contour(x, y, uz, [0], colors=('r'))\n",
    "plt.clabel(ucs, inline=1, fontsize=10)\n",
    "vcs = plt.contour(x, y, vz, [0], colors=('b'))\n",
    "plt.clabel(vcs, inline=1, fontsize=10)\n",
    "plt.plot(soln1[0],soln1[1],'o',color='green')\n",
    "plt.plot(soln2[0],soln2[1],'o',color='green')\n",
    "plt.plot(soln3[0],soln3[1],'o',color='green')\n",
    "plt.plot(soln4[0],soln4[1],'o',color='green')\n",
    "plt.grid()"
   ]
  },
  {
   "cell_type": "markdown",
   "metadata": {},
   "source": [
    "#### 3) Implement gradient descent."
   ]
  },
  {
   "cell_type": "markdown",
   "metadata": {},
   "source": [
    "Implement a gradient descent method to find the minimum of the following function. Note that You ** must ** use analytic gradient.\n",
    "\n",
    "$$f(x) = x^2+ y^2 + e^{-(x+y)}$$"
   ]
  },
  {
   "cell_type": "code",
   "execution_count": 41,
   "metadata": {
    "collapsed": false
   },
   "outputs": [],
   "source": [
    "f = lambda x,y: (x**2)+(y**2)+np.exp(-x-y)\n",
    "\n",
    "def gradient(x,y,a=1.11,b=50.):\n",
    "    return np.array([(2.*x)-np.exp(-x-y), (2.*y)-np.exp(-x-y)])\n",
    "\n",
    "def minimization(xi, yi, lr, terms):\n",
    "    xn = np.array([xi,yi])\n",
    "    plt.plot(xn[0], xn[1], 'or', color=\"red\")\n",
    "    for i in range(terms):\n",
    "        gr = gradient(xn[0],xn[1])\n",
    "        xn[0] = xn[0]-lr*gr[0]\n",
    "        xn[1] = xn[1]-lr*gr[1]\n",
    "        plt.plot(xn[0],xn[1], 'or', color=\"red\")\n",
    "    return xn[0],xn[1]"
   ]
  },
  {
   "cell_type": "code",
   "execution_count": 42,
   "metadata": {
    "collapsed": false
   },
   "outputs": [
    {
     "name": "stdout",
     "output_type": "stream",
     "text": [
      "(0.28357164520489198, 0.28357164520489198)\n",
      "0.727969046338\n"
     ]
    },
    {
     "data": {
      "image/png": "[encoded data removed]",
      "text/plain": [
       "<matplotlib.figure.Figure at 0x11579aed0>"
      ]
     },
     "metadata": {},
     "output_type": "display_data"
    }
   ],
   "source": [
    "from mpl_toolkits.mplot3d import Axes3D\n",
    "from matplotlib import cm\n",
    "\n",
    "nx = 200\n",
    "ny = 200\n",
    "x = np.linspace(-20,20,nx)\n",
    "y = np.linspace(-20,20,ny)\n",
    "xgrid, ygrid = np.meshgrid(x, y)\n",
    "#print ygrid\n",
    "uz = np.zeros((nx,ny))\n",
    "\n",
    "for ix in range(nx):\n",
    "    for iy in range(ny):\n",
    "        xx = x[ix]\n",
    "        yy = y[iy]\n",
    "        uz[iy,ix] = f(xx,yy) ##<<<<<<This is not a typo: [iy,ix]\n",
    "\n",
    "ucs = plt.contour(x, y, uz, [2,10,50,100,200,400,500], cmap=cm.brg)\n",
    "plt.clabel(ucs, inline=1, fontsize=10)\n",
    "plt.grid()\n",
    "plt.title('f(x,y)')\n",
    "\n",
    "ans = minimization(10., 10., 0.1, 1000)\n",
    "print ans\n",
    "print f(ans[0],ans[1])"
   ]
  },
  {
   "cell_type": "markdown",
   "metadata": {},
   "source": [
    "#### 4) Minimization"
   ]
  },
  {
   "cell_type": "markdown",
   "metadata": {},
   "source": [
    "For this question, you may use scipy.optimize.minimize.\n",
    "\n",
    "Consider the following data points given below. We want to describe these data points by the function\n",
    "\n",
    "$$y = a e^{bx} + c$$\n",
    "\n",
    "Find the value of $a,b$ and $c$ that *best* describe the data."
   ]
  },
  {
   "cell_type": "code",
   "execution_count": 44,
   "metadata": {
    "collapsed": false
   },
   "outputs": [
    {
     "data": {
      "text/plain": [
       "[<matplotlib.lines.Line2D at 0x1157c0d50>]"
      ]
     },
     "execution_count": 44,
     "metadata": {},
     "output_type": "execute_result"
    },
    {
     "data": {
      "image/png": "[encoded data removed]",
      "text/plain": [
       "<matplotlib.figure.Figure at 0x1120aa850>"
      ]
     },
     "metadata": {},
     "output_type": "display_data"
    }
   ],
   "source": [
    "x = np.linspace(0,10,100)\n",
    "y = np.array([ 1.5405055 ,  1.25527765,  1.4253769 ,  1.19702596,  1.22231766,\n",
    "        1.19768772,  1.03435976,  1.14858137,  0.9583012 ,  0.89677508,\n",
    "        1.05842641,  1.06476028,  0.91438739,  0.77932942,  0.7275148 ,\n",
    "        1.00529029,  0.86309866,  0.77499232,  0.48998571,  0.74542001,\n",
    "        0.62541949,  0.59128997,  0.51069422,  0.58078131,  0.63054884,\n",
    "        0.74463395,  0.56055529,  0.52472354,  0.70164537,  0.34290497,\n",
    "        0.47271633,  0.41761035,  0.48413063,  0.6155234 ,  0.62294239,\n",
    "        0.43776199,  0.64941099,  0.38143663,  0.49220502,  0.49349716,\n",
    "        0.62182807,  0.39969499,  0.43342215,  0.49773957,  0.47182878,\n",
    "        0.12786761,  0.36753207,  0.29206341,  0.31429163,  0.35574983,\n",
    "        0.28643345,  0.27683756,  0.2207247 ,  0.32531782,  0.46975283,\n",
    "        0.48518657,  0.25874   ,  0.49428511,  0.44659519,  0.24853734,\n",
    "        0.26136022,  0.23041716,  0.35531375,  0.34943466,  0.48531717,\n",
    "        0.57387317,  0.42335145,  0.36631654,  0.40038053,  0.21487923,\n",
    "        0.45200352,  0.24552858,  0.38363341,  0.17083109,  0.54695062,\n",
    "        0.45300342,  0.40429999,  0.1303008 ,  0.30710691,  0.30541891,\n",
    "        0.36739955,  0.47917638,  0.28400607,  0.41309179,  0.35335294,\n",
    "        0.18463455,  0.35420577,  0.24684353,  0.40037481,  0.2647269 ,\n",
    "        0.40625577,  0.35456044,  0.1553877 ,  0.38474255,  0.37233692,\n",
    "        0.3388649 ,  0.23938859,  0.3698647 ,  0.25719254,  0.24123246])\n",
    "plt.plot(x,y, '.r')"
   ]
  },
  {
   "cell_type": "code",
   "execution_count": 55,
   "metadata": {
    "collapsed": false
   },
   "outputs": [
    {
     "data": {
      "text/plain": [
       "[<matplotlib.lines.Line2D at 0x1153c3850>]"
      ]
     },
     "execution_count": 55,
     "metadata": {},
     "output_type": "execute_result"
    },
    {
     "data": {
      "image/png": "[encoded data removed]",
      "text/plain": [
       "<matplotlib.figure.Figure at 0x1153c3350>"
      ]
     },
     "metadata": {},
     "output_type": "display_data"
    }
   ],
   "source": [
    "import scipy.optimize\n",
    "\n",
    "def cost(w):\n",
    "    a,b,c = w\n",
    "    return np.sum(((a*np.exp(b*x)+c)-y)**2)\n",
    "\n",
    "res = scipy.optimize.minimize(cost, [0.,0.,0.])\n",
    "a,b,c = res.x\n",
    "plt.plot(x, (a*np.exp(b*x)+c))\n",
    "plt.plot(x,y, '.r')"
   ]
  },
  {
   "cell_type": "markdown",
   "metadata": {},
   "source": [
    "#### 5) Monte Carlo Integration"
   ]
  },
  {
   "cell_type": "markdown",
   "metadata": {},
   "source": [
    "Evaluate the following integral using Monte Carlo method.\n",
    "\n",
    "$$ \\iiint \\limits_C xyze^{-xyz}\\; dx \\; dy \\;dz$$\n",
    "\n",
    "where $C$ is a sphere of radius 1 centered at $(1,2,3)$"
   ]
  },
  {
   "cell_type": "code",
   "execution_count": 70,
   "metadata": {
    "collapsed": false
   },
   "outputs": [
    {
     "name": "stdout",
     "output_type": "stream",
     "text": [
      "0.310806768977\n"
     ]
    }
   ],
   "source": [
    "def f(x,y,z):\n",
    "    return x*y*z*np.exp(-x*y*z)\n",
    "\n",
    "n = 10000\n",
    "r = 1.\n",
    "x = (np.random.random(n)*(2*r))\n",
    "y = (np.random.random(n)*(2*r))+1\n",
    "z = (np.random.random(n)*(2*r))+2\n",
    "\n",
    "ans = 0.\n",
    "for i in range(n):\n",
    "    if (((x[i]-1.)**2)+((y[i]-2.)**2)+((z[i]-3.)**2)<=(r**2)):\n",
    "        ans += f(x[i],y[i],z[i])\n",
    "ans *= (((2*r)**3)/n)\n",
    "print ans"
   ]
  },
  {
   "cell_type": "markdown",
   "metadata": {},
   "source": [
    "#### 6) Monte Carlo Simulations."
   ]
  },
  {
   "cell_type": "markdown",
   "metadata": {},
   "source": [
    "What is the probability that the given a 3 random number drawn from a normal distribution(mean 0 width 1), the maximum of the three is at least 2 times the minimum number?\n",
    "\n",
    "Hint: use `np.random.randn`, `np.min` and `np.min`"
   ]
  },
  {
   "cell_type": "code",
   "execution_count": 77,
   "metadata": {
    "collapsed": false
   },
   "outputs": [
    {
     "name": "stdout",
     "output_type": "stream",
     "text": [
      "0.980703\n"
     ]
    }
   ],
   "source": [
    "n = 1000000\n",
    "a = 0\n",
    "for i in range(n):\n",
    "    s = np.random.randn(3)\n",
    "    mins = np.min(s)\n",
    "    maxs = np.max(s)\n",
    "#     print mins,maxs\n",
    "    if (maxs>=(mins*2)):\n",
    "        a+=1\n",
    "print float(a)/n"
   ]
  },
  {
   "cell_type": "markdown",
   "metadata": {},
   "source": [
    "#### 7) Hill Climbing\n",
    "\n",
    "Suppose that Bossy wants to set up 5 pokemon deck and play against John, also with 5 pokemon deck.\n",
    "\n",
    "Both Bossy and John has 100 pokemons each with different power rating. We want the game to be balance. This means that we want the sum of the power in 5 pokemon in Bossy's deck to be as close as possible to 5 pokemon from John's deck.\n",
    "\n",
    "Find the 10 pokemons.(Be sure to print the index and the sum of power)"
   ]
  },
  {
   "cell_type": "code",
   "execution_count": 94,
   "metadata": {
    "collapsed": false
   },
   "outputs": [],
   "source": [
    "bossy = np.array([  1.42000867e+00,   1.09868554e+00,   1.02161106e+00,\n",
    "         4.59173677e-01,   6.97096017e-02,   1.71399124e-01,\n",
    "         1.92315110e+00,   2.55116533e-01,   3.69746222e-02,\n",
    "         4.94308708e-01,   1.91529981e-01,   3.07966644e+00,\n",
    "         1.29808133e-01,   3.64376882e+00,   9.20633353e-01,\n",
    "         7.64956096e-02,   5.80508640e+00,   8.44870594e-01,\n",
    "         1.15943226e+00,   9.34110817e-01,   1.03905235e-02,\n",
    "         3.63615961e+00,   6.07963771e-01,   4.70249952e-01,\n",
    "         4.89055347e-01,   9.78528073e-01,   3.08440810e+00,\n",
    "         4.96927099e-01,   5.17268692e-01,   4.94959874e-01,\n",
    "         7.18771615e-01,   2.50374492e+00,   3.05348926e+00,\n",
    "         5.08074365e-05,   6.88187157e-03,   6.68976449e-02,\n",
    "         4.76883485e-01,   7.55235947e-03,   1.14456175e-01,\n",
    "         1.13413624e+00,   7.70680710e-04,   2.19855439e-02,\n",
    "         1.52890942e+00,   1.66884244e-01,   1.38983932e-01,\n",
    "         1.38975009e+00,   6.53127310e-01,   3.60263271e-01,\n",
    "         9.00211923e-01,   1.38234998e+00,   1.59199491e+00,\n",
    "         2.40337867e-01,   7.85210397e-02,   2.57135899e-01,\n",
    "         1.80127458e+00,   6.54877697e-01,   1.39040714e-01,\n",
    "         1.97347607e+00,   3.40925619e-01,   2.71265436e-01,\n",
    "         2.40641957e-01,   3.22063742e-03,   2.22985900e+00,\n",
    "         3.42141101e-01,   1.20604608e+00,   1.69094318e+00,\n",
    "         2.39582841e-01,   9.65533707e-01,   4.06855858e+00,\n",
    "         1.12921156e+00,   5.58435523e-02,   1.93876693e-01,\n",
    "         6.65476262e-01,   1.13159284e-01,   9.79380588e-01,\n",
    "         2.68269491e+00,   4.82923293e-02,   2.45428864e+00,\n",
    "         1.38036419e+00,   9.11581841e-01,   4.42563170e-01,\n",
    "         8.02301232e-01,   3.17425626e-02,   4.37144647e+00,\n",
    "         4.86372453e-02,   1.04102547e-03,   1.25910599e+00,\n",
    "         1.71433003e-01,   2.43661017e-01,   2.68757988e-01,\n",
    "         3.28285297e-01,   2.35353839e+00,   1.65483287e+00,\n",
    "         1.62161281e-01,   1.77268004e+00,   5.36216489e-01,\n",
    "         1.31450834e-02,   3.24687925e+00,   2.13621474e-01,\n",
    "         7.20385895e-01])\n",
    "john = np.array([  2.78099664e-02,   2.59276514e-02,   1.06518477e+00,\n",
    "         9.29029177e-01,   1.46138324e+00,   7.93984920e-01,\n",
    "         2.24495107e-02,   2.15869729e-01,   3.92910577e-02,\n",
    "         3.55663002e+00,   1.02589982e-02,   2.79339443e+00,\n",
    "         2.69060680e+00,   1.41575184e-02,   9.40433488e-02,\n",
    "         1.04826846e+00,   1.67677559e+00,   4.40183799e-01,\n",
    "         2.31071258e-02,   5.75722180e-01,   4.72140236e-01,\n",
    "         1.93932069e+00,   1.98401443e-01,   1.27357084e+00,\n",
    "         1.86251831e+00,   1.48278306e+00,   1.58961033e-02,\n",
    "         2.52724711e-03,   1.37503194e+00,   3.50401391e-01,\n",
    "         4.52430339e+00,   2.63354025e-01,   1.32527002e+00,\n",
    "         9.50380229e-02,   4.05078430e-01,   3.47841093e-01,\n",
    "         1.15009657e-01,   1.23393928e+00,   3.39038282e+00,\n",
    "         1.45458645e-01,   2.18008044e+00,   7.88362729e-02,\n",
    "         3.92607048e+00,   4.28614778e-02,   3.56830151e-01,\n",
    "         1.71167710e+00,   8.49651892e-02,   1.63850735e-01,\n",
    "         4.66962514e+00,   5.56537280e-02,   6.84195653e-02,\n",
    "         4.12760607e-02,   2.01625697e+00,   2.96266167e-01,\n",
    "         9.67621515e-01,   2.10637256e+00,   1.31802046e+01,\n",
    "         2.25725776e-01,   1.08564959e+00,   6.75392620e-01,\n",
    "         1.10981805e+00,   2.15846991e-01,   2.38143682e-01,\n",
    "         1.11285463e+00,   8.35286225e-01,   2.03782045e+00,\n",
    "         7.46787678e-01,   2.66081485e+00,   1.27255953e+00,\n",
    "         3.80272724e-01,   8.95989304e-02,   2.22183477e-02,\n",
    "         1.75499984e-03,   2.39844562e+00,   2.37224235e-02,\n",
    "         8.20240532e-05,   4.31286037e-01,   2.91572280e+00,\n",
    "         4.41779301e-01,   5.30183758e+00,   8.60613760e-03,\n",
    "         6.28960307e-02,   2.72325543e-01,   3.69756111e+00,\n",
    "         1.54555605e-04,   6.42715801e-01,   5.47220765e-02,\n",
    "         5.30402640e-01,   7.12804238e-06,   8.24709075e-02,\n",
    "         5.53414072e-02,   7.18331244e-01,   7.10230773e-03,\n",
    "         5.29394349e-03,   4.55803298e-02,   7.99243075e+00,\n",
    "         3.21704721e+00,   2.08812721e+00,   1.27028585e+00,\n",
    "         8.66882869e-01])"
   ]
  },
  {
   "cell_type": "code",
   "execution_count": 151,
   "metadata": {
    "collapsed": false
   },
   "outputs": [
    {
     "name": "stdout",
     "output_type": "stream",
     "text": [
      "[ 0 98 81 72 98] [ 0 98 66 72 98]\n",
      "3.315029112 3.31692434424\n"
     ]
    }
   ],
   "source": [
    "def cost(w):\n",
    "    bb,jj = w\n",
    "    bcost = 0\n",
    "    jcost = 0\n",
    "    for i in range(5):\n",
    "        bcost+=bossy[bb[i]]\n",
    "        jcost+=john[jj[i]]\n",
    "    return (bcost-jcost)**2\n",
    "\n",
    "def balancedDeck(b,j,n):\n",
    "    mincost = cost([b,j])\n",
    "    for i in range(n):\n",
    "        #bossy\n",
    "        k = np.random.randint(0,100)\n",
    "        if not (k in b):\n",
    "            for h in range(5):\n",
    "                bc = np.copy(b)\n",
    "                bc[h] = k\n",
    "                tmpc = cost([bc,j])\n",
    "                if (tmpc<mincost):\n",
    "                    mincost = tmpc\n",
    "                    b = bc\n",
    "        k = np.random.randint(0,100)\n",
    "        #john\n",
    "        if not (k in j):\n",
    "            for h in range(5):\n",
    "                jc = np.copy(b)\n",
    "                jc[h] = k\n",
    "                tmpc = cost([b,jc])\n",
    "                if (tmpc<mincost):\n",
    "                    mincost = tmpc\n",
    "                    j = jc\n",
    "    return b,j\n",
    "\n",
    "bi = [0,1,2,3,4]\n",
    "ji = [0,1,2,3,4]\n",
    "\n",
    "bf, jf = balancedDeck(bi,ji,100)\n",
    "print bf,jf\n",
    "\n",
    "bcost = 0\n",
    "jcost = 0\n",
    "for i in range(5):\n",
    "    bcost+=bossy[bf[i]]\n",
    "    jcost+=john[jf[i]]\n",
    "    \n",
    "print bcost,jcost"
   ]
  },
  {
   "cell_type": "code",
   "execution_count": null,
   "metadata": {
    "collapsed": true
   },
   "outputs": [],
   "source": []
  }
 ],
 "metadata": {
  "kernelspec": {
   "display_name": "Python 2",
   "language": "python",
   "name": "python2"
  },
  "language_info": {
   "codemirror_mode": {
    "name": "ipython",
    "version": 2
   },
   "file_extension": ".py",
   "mimetype": "text/x-python",
   "name": "python",
   "nbconvert_exporter": "python",
   "pygments_lexer": "ipython2",
   "version": "2.7.6"
  }
 },
 "nbformat": 4,
 "nbformat_minor": 0
}
