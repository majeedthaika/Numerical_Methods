{
 "cells": [
  {
   "cell_type": "markdown",
   "metadata": {},
   "source": [
    "## Pseudo Random Number Generator\n",
    "\n",
    "Let us learn about how to generate a random number."
   ]
  },
  {
   "cell_type": "code",
   "execution_count": 1,
   "metadata": {
    "collapsed": true
   },
   "outputs": [],
   "source": [
    "%matplotlib inline\n",
    "from matplotlib import pyplot as plt\n",
    "import numpy as np\n",
    "import math"
   ]
  },
  {
   "cell_type": "markdown",
   "metadata": {},
   "source": [
    "#### 1) Linear Congruent\n",
    "One of the easiest way to make random number is using linear congruential.\n",
    "\n",
    "$$x_{n+1} = a x_{n} + b \\mod 2^{31}$$\n",
    "\n",
    "pick a random $a$ and $b$ then try."
   ]
  },
  {
   "cell_type": "code",
   "execution_count": 2,
   "metadata": {
    "collapsed": false
   },
   "outputs": [
    {
     "name": "stdout",
     "output_type": "stream",
     "text": [
      "2\n",
      "1\n",
      "7\n",
      "4\n",
      "0\n",
      "2\n",
      "1\n",
      "7\n",
      "4\n",
      "0\n",
      "2\n",
      "1\n",
      "7\n",
      "4\n",
      "0\n",
      "2\n",
      "1\n",
      "7\n",
      "4\n",
      "0\n"
     ]
    }
   ],
   "source": [
    "x = 0\n",
    "a = 49304524351\n",
    "b = 128104231\n",
    "for i in range(20):\n",
    "    x = (a*x + b)%11\n",
    "    print x"
   ]
  },
  {
   "cell_type": "markdown",
   "metadata": {},
   "source": [
    "#### 2) Cycle Problem\n",
    "\n",
    "One of the problem with linear congruent is short cycle length. For example,\n",
    "\n",
    "$$x_{n+1} =  ax_{n} + b \\mod 11$$\n",
    "\n",
    "No matter what value you give $a$ and $b$. Your cycle length will be at most 11."
   ]
  },
  {
   "cell_type": "code",
   "execution_count": 3,
   "metadata": {
    "collapsed": false
   },
   "outputs": [
    {
     "name": "stdout",
     "output_type": "stream",
     "text": [
      "3\n",
      "0\n",
      "1\n",
      "9\n",
      "0\n",
      "3\n",
      "0\n",
      "9\n",
      "4\n",
      "5\n",
      "9\n",
      "1\n",
      "9\n",
      "1\n",
      "2\n",
      "7\n",
      "8\n",
      "10\n",
      "5\n",
      "10\n"
     ]
    }
   ],
   "source": [
    "x = 0\n",
    "a = 42141203\n",
    "b = 1329012\n",
    "for i in range(20):\n",
    "    x = (a*x + b)%(2**31)\n",
    "    print x%11"
   ]
  },
  {
   "cell_type": "markdown",
   "metadata": {},
   "source": [
    "#### 3) Fixing Cycle problem\n",
    "\n",
    "One way to do it is to generate it with a better cycle and then mod 11."
   ]
  },
  {
   "cell_type": "code",
   "execution_count": 4,
   "metadata": {
    "collapsed": false
   },
   "outputs": [
    {
     "name": "stdout",
     "output_type": "stream",
     "text": [
      "3\n",
      "0\n",
      "1\n",
      "9\n",
      "0\n",
      "3\n",
      "0\n",
      "9\n",
      "4\n",
      "5\n",
      "9\n",
      "1\n",
      "9\n",
      "1\n",
      "2\n",
      "7\n",
      "8\n",
      "10\n",
      "5\n",
      "10\n"
     ]
    }
   ],
   "source": [
    "x = 0\n",
    "a = 42141203\n",
    "b = 1329012\n",
    "for i in range(20):\n",
    "    x = (a*x + b)%(2**31)\n",
    "    print x%11"
   ]
  },
  {
   "cell_type": "markdown",
   "metadata": {},
   "source": [
    "#### 4) Some available random number from numpy/python\n",
    "\n",
    "`np.random.random` for random a float uniformly between 0 and 1.\n",
    "\n",
    "`np.random.randint` for random integer uniformly in some range.\n",
    "\n",
    "`np.random.randn` for random float from normal distribution with mean 0 and standard deviation 1."
   ]
  },
  {
   "cell_type": "code",
   "execution_count": 5,
   "metadata": {
    "collapsed": false
   },
   "outputs": [
    {
     "name": "stdout",
     "output_type": "stream",
     "text": [
      "[ 0.09158841  0.92396551  0.82747734  0.32157581  0.25080205  0.71400122\n",
      "  0.55182353  0.50497348  0.79138682  0.89309034]\n",
      "71\n",
      "[ -6.23611856e-04   4.75137288e-02   1.58226953e+00  -5.79875686e-01\n",
      "  -1.86836958e+00   2.97594544e-01   1.07365299e+00  -3.80770196e-02\n",
      "   3.02274434e-01   1.58222221e-01  -1.12133108e+00   1.46132837e+00\n",
      "   2.14485837e+00  -2.08915559e-01   5.32506186e-02  -2.04094732e+00\n",
      "  -1.31025425e+00  -1.02693335e+00   1.30697961e+00  -3.16575376e+00]\n"
     ]
    }
   ],
   "source": [
    "print np.random.random(10)\n",
    "print np.random.randint(50,100)\n",
    "print np.random.randn(20)"
   ]
  },
  {
   "cell_type": "markdown",
   "metadata": {},
   "source": [
    "#### 5) Manipulating random number to get desired behavior.\n",
    "\n",
    "Random a float from 0 to 5.\n",
    "\n",
    "Random a float from -1 to 1.\n",
    "\n",
    "Random a float form normal distribution with mean 5 and std dev 1.\n",
    "\n",
    "Random a float form normal distribution with mean 2 and std dev 10."
   ]
  },
  {
   "cell_type": "code",
   "execution_count": 6,
   "metadata": {
    "collapsed": false
   },
   "outputs": [
    {
     "name": "stdout",
     "output_type": "stream",
     "text": [
      "[ 1.86573647  2.30094188  0.1208435  ...,  3.55079073  3.57724134\n",
      "  0.72801982]\n",
      "[ 0.79673568  0.83000423 -0.14128685 ...,  0.63258184  0.0450541\n",
      "  0.38520399]\n",
      "[ 6.61457193  5.90876324  3.97589534 ...,  6.63846419  4.83034669\n",
      "  3.7557929 ]\n"
     ]
    },
    {
     "data": {
      "text/plain": [
       "(array([  1.00000000e+00,   1.00000000e+00,   0.00000000e+00,\n",
       "          0.00000000e+00,   1.00000000e+00,   5.00000000e+00,\n",
       "          8.00000000e+00,   9.00000000e+00,   5.00000000e+00,\n",
       "          1.20000000e+01,   1.10000000e+01,   2.00000000e+01,\n",
       "          3.70000000e+01,   5.30000000e+01,   7.20000000e+01,\n",
       "          9.70000000e+01,   1.35000000e+02,   1.78000000e+02,\n",
       "          2.61000000e+02,   3.44000000e+02,   4.70000000e+02,\n",
       "          6.50000000e+02,   7.99000000e+02,   1.07000000e+03,\n",
       "          1.42600000e+03,   1.86100000e+03,   2.21900000e+03,\n",
       "          2.79400000e+03,   3.53400000e+03,   4.29700000e+03,\n",
       "          5.23400000e+03,   6.39700000e+03,   7.63200000e+03,\n",
       "          9.21300000e+03,   1.09710000e+04,   1.24720000e+04,\n",
       "          1.44680000e+04,   1.63960000e+04,   1.88350000e+04,\n",
       "          2.08580000e+04,   2.34210000e+04,   2.56110000e+04,\n",
       "          2.76820000e+04,   2.95780000e+04,   3.21730000e+04,\n",
       "          3.41690000e+04,   3.54320000e+04,   3.70030000e+04,\n",
       "          3.83050000e+04,   3.88480000e+04,   3.87540000e+04,\n",
       "          3.93750000e+04,   3.86940000e+04,   3.77630000e+04,\n",
       "          3.64250000e+04,   3.53850000e+04,   3.36840000e+04,\n",
       "          3.16560000e+04,   2.93540000e+04,   2.74150000e+04,\n",
       "          2.54110000e+04,   2.26620000e+04,   2.05150000e+04,\n",
       "          1.84420000e+04,   1.60900000e+04,   1.41580000e+04,\n",
       "          1.22590000e+04,   1.03850000e+04,   8.88300000e+03,\n",
       "          7.34900000e+03,   6.05400000e+03,   5.03700000e+03,\n",
       "          4.13900000e+03,   3.30400000e+03,   2.64300000e+03,\n",
       "          2.13300000e+03,   1.73000000e+03,   1.26900000e+03,\n",
       "          1.01800000e+03,   7.97000000e+02,   5.59000000e+02,\n",
       "          4.59000000e+02,   3.48000000e+02,   2.39000000e+02,\n",
       "          1.64000000e+02,   1.12000000e+02,   9.00000000e+01,\n",
       "          5.60000000e+01,   4.40000000e+01,   2.60000000e+01,\n",
       "          1.70000000e+01,   1.00000000e+01,   9.00000000e+00,\n",
       "          5.00000000e+00,   6.00000000e+00,   1.00000000e+00,\n",
       "          1.00000000e+00,   0.00000000e+00,   2.00000000e+00,\n",
       "          1.00000000e+00]),\n",
       " array([-47.91020826, -46.92953485, -45.94886143, -44.96818801,\n",
       "        -43.9875146 , -43.00684118, -42.02616776, -41.04549435,\n",
       "        -40.06482093, -39.08414751, -38.1034741 , -37.12280068,\n",
       "        -36.14212726, -35.16145385, -34.18078043, -33.20010702,\n",
       "        -32.2194336 , -31.23876018, -30.25808677, -29.27741335,\n",
       "        -28.29673993, -27.31606652, -26.3353931 , -25.35471968,\n",
       "        -24.37404627, -23.39337285, -22.41269943, -21.43202602,\n",
       "        -20.4513526 , -19.47067918, -18.49000577, -17.50933235,\n",
       "        -16.52865893, -15.54798552, -14.5673121 , -13.58663869,\n",
       "        -12.60596527, -11.62529185, -10.64461844,  -9.66394502,\n",
       "         -8.6832716 ,  -7.70259819,  -6.72192477,  -5.74125135,\n",
       "         -4.76057794,  -3.77990452,  -2.7992311 ,  -1.81855769,\n",
       "         -0.83788427,   0.14278915,   1.12346256,   2.10413598,\n",
       "          3.0848094 ,   4.06548281,   5.04615623,   6.02682964,\n",
       "          7.00750306,   7.98817648,   8.96884989,   9.94952331,\n",
       "         10.93019673,  11.91087014,  12.89154356,  13.87221698,\n",
       "         14.85289039,  15.83356381,  16.81423723,  17.79491064,\n",
       "         18.77558406,  19.75625748,  20.73693089,  21.71760431,\n",
       "         22.69827772,  23.67895114,  24.65962456,  25.64029797,\n",
       "         26.62097139,  27.60164481,  28.58231822,  29.56299164,\n",
       "         30.54366506,  31.52433847,  32.50501189,  33.48568531,\n",
       "         34.46635872,  35.44703214,  36.42770556,  37.40837897,\n",
       "         38.38905239,  39.36972581,  40.35039922,  41.33107264,\n",
       "         42.31174605,  43.29241947,  44.27309289,  45.2537663 ,\n",
       "         46.23443972,  47.21511314,  48.19578655,  49.17645997,  50.15713339]),\n",
       " <a list of 100 Patch objects>)"
      ]
     },
     "execution_count": 6,
     "metadata": {},
     "output_type": "execute_result"
    },
    {
     "data": {
      "image/png": "[encoded data removed]",
      "text/plain": [
       "<matplotlib.figure.Figure at 0x109e53410>"
      ]
     },
     "metadata": {},
     "output_type": "display_data"
    }
   ],
   "source": [
    "print np.random.random(1000000)*5\n",
    "print (np.random.random(1000000)*2)-1\n",
    "print np.random.randn(1000000)+5\n",
    "x = (np.random.randn(1000000)*10)+2\n",
    "\n",
    "# x = np.random.random(100000)\n",
    "# plt.hist(x)\n",
    "# x = np.random.randn(100000)\n",
    "plt.hist(x,bins=100)"
   ]
  },
  {
   "cell_type": "code",
   "execution_count": 7,
   "metadata": {
    "collapsed": false
   },
   "outputs": [
    {
     "name": "stdout",
     "output_type": "stream",
     "text": [
      "<built-in method randn of mtrand.RandomState object at 0x108a53738>\n"
     ]
    }
   ],
   "source": [
    "print np.random.randn"
   ]
  },
  {
   "cell_type": "markdown",
   "metadata": {},
   "source": [
    "6) What does np.random.seed do?"
   ]
  },
  {
   "cell_type": "code",
   "execution_count": 8,
   "metadata": {
    "collapsed": false
   },
   "outputs": [
    {
     "name": "stdout",
     "output_type": "stream",
     "text": [
      "<built-in method seed of mtrand.RandomState object at 0x108a53738>\n"
     ]
    }
   ],
   "source": [
    "print np.random.seed"
   ]
  },
  {
   "cell_type": "markdown",
   "metadata": {},
   "source": [
    "### Monte Carlo Integration"
   ]
  },
  {
   "cell_type": "markdown",
   "metadata": {},
   "source": [
    "#### 1) Let integrate\n",
    "$$ \\iiint \\limits_{C} x^2(y-1)^2(z-2)^2\\exp(xyz) \\; dx \\; dy \\; dz$$\n",
    "Over a cube $x \\in [-1,1], y\\in [-1,1], z\\in [-1,1]$"
   ]
  },
  {
   "cell_type": "code",
   "execution_count": 9,
   "metadata": {
    "collapsed": false
   },
   "outputs": [
    {
     "name": "stdout",
     "output_type": "stream",
     "text": [
      "16.0684875845\n"
     ]
    }
   ],
   "source": [
    "# def f(x,y,z):\n",
    "#     return (x**2)*((y-1.)**2)*((z-2.)**2)*(math.exp(x*y*z))\n",
    "\n",
    "# x = (np.random.random(5000000)*2)-1\n",
    "# y = (np.random.random(5000000)*2)-1\n",
    "# z = (np.random.random(5000000)*2)-1\n",
    "\n",
    "# ans = 0\n",
    "# for i in range(5000000):\n",
    "#     ans += f(x[i],y[i],z[i])\n",
    "# ans = ans*(8./5000000)\n",
    "# print ans\n",
    "\n",
    "n = 10000000\n",
    "\n",
    "x = (np.random.random(n)*2)-1\n",
    "y = (np.random.random(n)*2)-1\n",
    "z = (np.random.random(n)*2)-1\n",
    "\n",
    "print np.sum((x**2)*((y-1.)**2)*((z-2.)**2)*np.exp(x*y*z))*(8./n)"
   ]
  },
  {
   "cell_type": "markdown",
   "metadata": {},
   "source": [
    "#### 2) Evaluate\n",
    "$$ \\iiint \\limits_{C} x^2(y-1)^2(z-2)^2\\exp(xyz) \\; dx \\; dy \\; dz$$\n",
    "Over a sphere of radius 1 centered at the origin."
   ]
  },
  {
   "cell_type": "code",
   "execution_count": 10,
   "metadata": {
    "collapsed": false
   },
   "outputs": [
    {
     "name": "stdout",
     "output_type": "stream",
     "text": [
      "3.98016787323\n",
      "3.98176590678\n"
     ]
    }
   ],
   "source": [
    "def f(x,y,z):\n",
    "    return (x**2)*((y-1.)**2)*((z-2.)**2)*np.exp(x*y*z)\n",
    "\n",
    "n = 1000000\n",
    "x = (np.random.random(n)*2)-1\n",
    "y = (np.random.random(n)*2)-1\n",
    "z = (np.random.random(n)*2)-1\n",
    "\n",
    "ans = 0\n",
    "nn = 0\n",
    "for i in range(n):\n",
    "    if ((x[i]**2)+(y[i]**2)+(z[i]**2)<=(1.**2)):\n",
    "        ans += f(x[i],y[i],z[i])\n",
    "        nn+=1\n",
    "ans1 = ans*((4.*math.pi/3.)/nn)\n",
    "ans2 = ans*(8./n)\n",
    "print ans1\n",
    "print ans2"
   ]
  },
  {
   "cell_type": "markdown",
   "metadata": {},
   "source": [
    "3) Do we guarantee to get the same answer when we repeat the experiment?"
   ]
  },
  {
   "cell_type": "code",
   "execution_count": 11,
   "metadata": {
    "collapsed": false
   },
   "outputs": [
    {
     "name": "stdout",
     "output_type": "stream",
     "text": [
      "No.\n"
     ]
    }
   ],
   "source": [
    "print \"No.\""
   ]
  },
  {
   "cell_type": "markdown",
   "metadata": {},
   "source": [
    "4) What do we need to do to guarantee the same answer?"
   ]
  },
  {
   "cell_type": "code",
   "execution_count": 12,
   "metadata": {
    "collapsed": false
   },
   "outputs": [
    {
     "name": "stdout",
     "output_type": "stream",
     "text": [
      "Set the seed to get same answer.\n"
     ]
    }
   ],
   "source": [
    "print \"Set the seed to get same answer.\""
   ]
  },
  {
   "cell_type": "markdown",
   "metadata": {},
   "source": [
    "5) How do we defind the convergence and how fast is the convergence for monte carlo integration?"
   ]
  },
  {
   "cell_type": "code",
   "execution_count": 13,
   "metadata": {
    "collapsed": false
   },
   "outputs": [
    {
     "name": "stdout",
     "output_type": "stream",
     "text": [
      "1/sqrt(N)\n"
     ]
    }
   ],
   "source": [
    "print \"1/sqrt(N)\""
   ]
  },
  {
   "cell_type": "markdown",
   "metadata": {},
   "source": [
    "## Monte Carlo Simulations"
   ]
  },
  {
   "cell_type": "markdown",
   "metadata": {},
   "source": [
    "### Loaded Die.\n",
    "\n",
    "<table>\n",
    "<tr style=\"text-align:center\">\n",
    "    <td>Number</td>\n",
    "    <td>1</td>\n",
    "    <td>2</td>\n",
    "    <td>3</td>\n",
    "    <td>4</td>\n",
    "    <td>5</td>\n",
    "    <td>6</td>\n",
    "</tr>\n",
    "<tr style=\"text-align:center\">\n",
    "    <td>Probability</td>\n",
    "    <td>0.3</td>\n",
    "    <td>0.2</td>\n",
    "    <td>0.1</td>\n",
    "    <td>0.2</td>\n",
    "    <td>0.1</td>\n",
    "    <td>0.1</td>\n",
    "</tr>\n",
    "</table>"
   ]
  },
  {
   "cell_type": "markdown",
   "metadata": {},
   "source": [
    "#### 1) Simulating the dice.\n",
    "\n",
    "Simulate the dice result such that it has the given probability distribution."
   ]
  },
  {
   "cell_type": "code",
   "execution_count": 14,
   "metadata": {
    "collapsed": false
   },
   "outputs": [
    {
     "data": {
      "text/plain": [
       "(array([ 299475.,       0.,       0.,       0.,       0.,       0.,\n",
       "              0.,       0.,       0.,       0.,       0.,       0.,\n",
       "              0.,       0.,       0.,       0.,       0.,       0.,\n",
       "              0.,       0.,  200509.,       0.,       0.,       0.,\n",
       "              0.,       0.,       0.,       0.,       0.,       0.,\n",
       "              0.,       0.,       0.,       0.,       0.,       0.,\n",
       "              0.,       0.,       0.,       0.,  100291.,       0.,\n",
       "              0.,       0.,       0.,       0.,       0.,       0.,\n",
       "              0.,       0.,       0.,       0.,       0.,       0.,\n",
       "              0.,       0.,       0.,       0.,       0.,       0.,\n",
       "         200156.,       0.,       0.,       0.,       0.,       0.,\n",
       "              0.,       0.,       0.,       0.,       0.,       0.,\n",
       "              0.,       0.,       0.,       0.,       0.,       0.,\n",
       "              0.,       0.,   99584.,       0.,       0.,       0.,\n",
       "              0.,       0.,       0.,       0.,       0.,       0.,\n",
       "              0.,       0.,       0.,       0.,       0.,       0.,\n",
       "              0.,       0.,       0.,   99985.]),\n",
       " array([ 1.  ,  1.05,  1.1 ,  1.15,  1.2 ,  1.25,  1.3 ,  1.35,  1.4 ,\n",
       "         1.45,  1.5 ,  1.55,  1.6 ,  1.65,  1.7 ,  1.75,  1.8 ,  1.85,\n",
       "         1.9 ,  1.95,  2.  ,  2.05,  2.1 ,  2.15,  2.2 ,  2.25,  2.3 ,\n",
       "         2.35,  2.4 ,  2.45,  2.5 ,  2.55,  2.6 ,  2.65,  2.7 ,  2.75,\n",
       "         2.8 ,  2.85,  2.9 ,  2.95,  3.  ,  3.05,  3.1 ,  3.15,  3.2 ,\n",
       "         3.25,  3.3 ,  3.35,  3.4 ,  3.45,  3.5 ,  3.55,  3.6 ,  3.65,\n",
       "         3.7 ,  3.75,  3.8 ,  3.85,  3.9 ,  3.95,  4.  ,  4.05,  4.1 ,\n",
       "         4.15,  4.2 ,  4.25,  4.3 ,  4.35,  4.4 ,  4.45,  4.5 ,  4.55,\n",
       "         4.6 ,  4.65,  4.7 ,  4.75,  4.8 ,  4.85,  4.9 ,  4.95,  5.  ,\n",
       "         5.05,  5.1 ,  5.15,  5.2 ,  5.25,  5.3 ,  5.35,  5.4 ,  5.45,\n",
       "         5.5 ,  5.55,  5.6 ,  5.65,  5.7 ,  5.75,  5.8 ,  5.85,  5.9 ,\n",
       "         5.95,  6.  ]),\n",
       " <a list of 100 Patch objects>)"
      ]
     },
     "execution_count": 14,
     "metadata": {},
     "output_type": "execute_result"
    },
    {
     "data": {
      "image/png": "[encoded data removed]",
      "text/plain": [
       "<matplotlib.figure.Figure at 0x10d07d490>"
      ]
     },
     "metadata": {},
     "output_type": "display_data"
    }
   ],
   "source": [
    "n = 1000000\n",
    "\n",
    "def dice(arr):\n",
    "    for i in range(n):\n",
    "        curr = arr[i]\n",
    "        if (curr<=0.3):\n",
    "            arr[i] = 1\n",
    "        elif (curr<=0.5):\n",
    "            arr[i] = 2\n",
    "        elif (curr<=0.6):\n",
    "            arr[i] = 3\n",
    "        elif (curr<=0.8):\n",
    "            arr[i] = 4\n",
    "        elif (curr<=0.9):\n",
    "            arr[i] = 5\n",
    "        else:\n",
    "            arr[i] = 6\n",
    "    return arr\n",
    "\n",
    "arr = np.random.random(n)\n",
    "out = dice(arr)\n",
    "\n",
    "plt.hist(out,bins=100)"
   ]
  },
  {
   "cell_type": "markdown",
   "metadata": {},
   "source": [
    "#### 2) Expected Value.\n",
    "\n",
    "What is the expected value of dice result? Try both simulation and analytical formula."
   ]
  },
  {
   "cell_type": "code",
   "execution_count": 15,
   "metadata": {
    "collapsed": false
   },
   "outputs": [
    {
     "name": "stdout",
     "output_type": "stream",
     "text": [
      "2.899659\n",
      "2.9\n"
     ]
    }
   ],
   "source": [
    "n = 1000000\n",
    "\n",
    "def dice(arr):\n",
    "    for i in range(n):\n",
    "        curr = arr[i]\n",
    "        if (curr<=0.3):\n",
    "            arr[i] = 1\n",
    "        elif (curr<=0.5):\n",
    "            arr[i] = 2\n",
    "        elif (curr<=0.6):\n",
    "            arr[i] = 3\n",
    "        elif (curr<=0.8):\n",
    "            arr[i] = 4\n",
    "        elif (curr<=0.9):\n",
    "            arr[i] = 5\n",
    "        else:\n",
    "            arr[i] = 6\n",
    "    return arr\n",
    "\n",
    "arr = np.random.random(n)\n",
    "out = dice(arr)\n",
    "\n",
    "#sim\n",
    "print np.sum(out)/n\n",
    "\n",
    "#analytically\n",
    "print ((0.3*1)+(0.2*2)+(0.1*3)+(0.2*4)+(0.1*5)+(0.1*6))"
   ]
  },
  {
   "cell_type": "markdown",
   "metadata": {},
   "source": [
    "3) What is the expected value of $A+B$ where $A$ is the result of the first dice and $B$ is the result of the second dice? Use simulation and compare with analytic answer."
   ]
  },
  {
   "cell_type": "code",
   "execution_count": 16,
   "metadata": {
    "collapsed": false
   },
   "outputs": [
    {
     "name": "stdout",
     "output_type": "stream",
     "text": [
      "5.799849\n",
      "5.8\n"
     ]
    }
   ],
   "source": [
    "n = 1000000\n",
    "\n",
    "def dice(arr):\n",
    "    for i in range(n):\n",
    "        curr = arr[i]\n",
    "        if (curr<=0.3):\n",
    "            arr[i] = 1\n",
    "        elif (curr<=0.5):\n",
    "            arr[i] = 2\n",
    "        elif (curr<=0.6):\n",
    "            arr[i] = 3\n",
    "        elif (curr<=0.8):\n",
    "            arr[i] = 4\n",
    "        elif (curr<=0.9):\n",
    "            arr[i] = 5\n",
    "        else:\n",
    "            arr[i] = 6\n",
    "    return arr\n",
    "\n",
    "arr1 = np.random.random(n)\n",
    "a = dice(arr1)\n",
    "arr2 = np.random.random(n)\n",
    "b = dice(arr2)\n",
    "\n",
    "#sim\n",
    "print (np.sum(a)/n)+(np.sum(b)/n)\n",
    "\n",
    "#analytically\n",
    "x = ((0.3*1)+(0.2*2)+(0.1*3)+(0.2*4)+(0.1*5)+(0.1*6))\n",
    "print x*2"
   ]
  },
  {
   "cell_type": "markdown",
   "metadata": {},
   "source": [
    "4) What is the expected value of $AB$?"
   ]
  },
  {
   "cell_type": "code",
   "execution_count": 17,
   "metadata": {
    "collapsed": false
   },
   "outputs": [
    {
     "name": "stdout",
     "output_type": "stream",
     "text": [
      "8.40955970785\n",
      "8.41\n"
     ]
    }
   ],
   "source": [
    "#sim\n",
    "print (np.sum(a)/n)*(np.sum(b)/n)\n",
    "\n",
    "#analytically\n",
    "print x**2"
   ]
  },
  {
   "cell_type": "markdown",
   "metadata": {},
   "source": [
    "5) Try the experiment 10,000 times and plot out the probability of getting each result for $AB$. (Probability is given by #of times we get the number/total number of experiment."
   ]
  },
  {
   "cell_type": "code",
   "execution_count": 18,
   "metadata": {
    "collapsed": false
   },
   "outputs": [
    {
     "data": {
      "text/plain": [
       "(array([  871.,     0.,  1171.,     0.,     0.,   622.,     0.,     0.,\n",
       "         1621.,     0.,     0.,   626.,     0.,     0.,   989.,     0.,\n",
       "            0.,     0.,     0.,     0.,   803.,     0.,    89.,     0.,\n",
       "            0.,   414.,     0.,     0.,     0.,     0.,     0.,   842.,\n",
       "            0.,     0.,     0.,     0.,     0.,     0.,     0.,     0.,\n",
       "          212.,     0.,   351.,     0.,     0.,     0.,     0.,     0.,\n",
       "          214.,     0.,     0.,     0.,     0.,     0.,   383.,     0.,\n",
       "            0.,     0.,     0.,     0.,     0.,     0.,     0.,     0.,\n",
       "            0.,   406.,     0.,     0.,    87.,     0.,     0.,     0.,\n",
       "            0.,     0.,     0.,     0.,     0.,     0.,     0.,     0.,\n",
       "            0.,     0.,   206.,     0.,     0.,     0.,     0.,     0.,\n",
       "            0.,     0.,     0.,     0.,     0.,     0.,     0.,     0.,\n",
       "            0.,     0.,     0.,    93.]),\n",
       " array([  1.  ,   1.35,   1.7 ,   2.05,   2.4 ,   2.75,   3.1 ,   3.45,\n",
       "          3.8 ,   4.15,   4.5 ,   4.85,   5.2 ,   5.55,   5.9 ,   6.25,\n",
       "          6.6 ,   6.95,   7.3 ,   7.65,   8.  ,   8.35,   8.7 ,   9.05,\n",
       "          9.4 ,   9.75,  10.1 ,  10.45,  10.8 ,  11.15,  11.5 ,  11.85,\n",
       "         12.2 ,  12.55,  12.9 ,  13.25,  13.6 ,  13.95,  14.3 ,  14.65,\n",
       "         15.  ,  15.35,  15.7 ,  16.05,  16.4 ,  16.75,  17.1 ,  17.45,\n",
       "         17.8 ,  18.15,  18.5 ,  18.85,  19.2 ,  19.55,  19.9 ,  20.25,\n",
       "         20.6 ,  20.95,  21.3 ,  21.65,  22.  ,  22.35,  22.7 ,  23.05,\n",
       "         23.4 ,  23.75,  24.1 ,  24.45,  24.8 ,  25.15,  25.5 ,  25.85,\n",
       "         26.2 ,  26.55,  26.9 ,  27.25,  27.6 ,  27.95,  28.3 ,  28.65,\n",
       "         29.  ,  29.35,  29.7 ,  30.05,  30.4 ,  30.75,  31.1 ,  31.45,\n",
       "         31.8 ,  32.15,  32.5 ,  32.85,  33.2 ,  33.55,  33.9 ,  34.25,\n",
       "         34.6 ,  34.95,  35.3 ,  35.65,  36.  ]),\n",
       " <a list of 100 Patch objects>)"
      ]
     },
     "execution_count": 18,
     "metadata": {},
     "output_type": "execute_result"
    },
    {
     "data": {
      "image/png": "[encoded data removed]",
      "text/plain": [
       "<matplotlib.figure.Figure at 0x10d0760d0>"
      ]
     },
     "metadata": {},
     "output_type": "display_data"
    }
   ],
   "source": [
    "n = 10000\n",
    "\n",
    "def dice(arr):\n",
    "    for i in range(n):\n",
    "        curr = arr[i]\n",
    "        if (curr<=0.3):\n",
    "            arr[i] = 1\n",
    "        elif (curr<=0.5):\n",
    "            arr[i] = 2\n",
    "        elif (curr<=0.6):\n",
    "            arr[i] = 3\n",
    "        elif (curr<=0.8):\n",
    "            arr[i] = 4\n",
    "        elif (curr<=0.9):\n",
    "            arr[i] = 5\n",
    "        else:\n",
    "            arr[i] = 6\n",
    "    return arr\n",
    "\n",
    "arr1 = np.random.random(n)\n",
    "a = dice(arr1)\n",
    "arr2 = np.random.random(n)\n",
    "b = dice(arr2)\n",
    "\n",
    "out = a*b\n",
    "plt.hist(out,bins=100)"
   ]
  },
  {
   "cell_type": "markdown",
   "metadata": {},
   "source": [
    "6) Now we play the games of two people. We take the product of the two dice. Whoever get more number wins. What is the probability of getting a draw."
   ]
  },
  {
   "cell_type": "code",
   "execution_count": 19,
   "metadata": {
    "collapsed": false
   },
   "outputs": [
    {
     "name": "stdout",
     "output_type": "stream",
     "text": [
      "0.0926\n"
     ]
    }
   ],
   "source": [
    "n = 10000\n",
    "\n",
    "def dice(arr):\n",
    "    for i in range(n):\n",
    "        curr = arr[i]\n",
    "        if (curr<=0.3):\n",
    "            arr[i] = 1\n",
    "        elif (curr<=0.5):\n",
    "            arr[i] = 2\n",
    "        elif (curr<=0.6):\n",
    "            arr[i] = 3\n",
    "        elif (curr<=0.8):\n",
    "            arr[i] = 4\n",
    "        elif (curr<=0.9):\n",
    "            arr[i] = 5\n",
    "        else:\n",
    "            arr[i] = 6\n",
    "    return arr\n",
    "\n",
    "arr1 = np.random.random(n)\n",
    "a = dice(arr1)\n",
    "arr2 = np.random.random(n)\n",
    "b = dice(arr2)\n",
    "\n",
    "arr3 = np.random.random(n)\n",
    "c = dice(arr3)\n",
    "arr4 = np.random.random(n)\n",
    "d = dice(arr4)\n",
    "\n",
    "out1 = a*b\n",
    "out2 = c*d\n",
    "\n",
    "draw = 0\n",
    "for i in range(n):\n",
    "    if (out1[i]==out2[i]):\n",
    "        draw+=1\n",
    "\n",
    "print draw/float(n)"
   ]
  },
  {
   "cell_type": "markdown",
   "metadata": {},
   "source": [
    "7) A little bit harder: consider the game of product dice. If our first dice is 3, what is the probability of winning?"
   ]
  },
  {
   "cell_type": "code",
   "execution_count": 20,
   "metadata": {
    "collapsed": false
   },
   "outputs": [
    {
     "name": "stdout",
     "output_type": "stream",
     "text": [
      "0.5342\n"
     ]
    }
   ],
   "source": [
    "n = 10000\n",
    "\n",
    "def dice(arr):\n",
    "    for i in range(n):\n",
    "        curr = arr[i]\n",
    "        if (curr<=0.3):\n",
    "            arr[i] = 1\n",
    "        elif (curr<=0.5):\n",
    "            arr[i] = 2\n",
    "        elif (curr<=0.6):\n",
    "            arr[i] = 3\n",
    "        elif (curr<=0.8):\n",
    "            arr[i] = 4\n",
    "        elif (curr<=0.9):\n",
    "            arr[i] = 5\n",
    "        else:\n",
    "            arr[i] = 6\n",
    "    return arr\n",
    "\n",
    "arr1 = np.random.random(n)\n",
    "a = dice(arr1)\n",
    "arr2 = np.random.random(n)\n",
    "b = dice(arr2)\n",
    "\n",
    "arr3 = np.random.random(n)\n",
    "c = dice(arr3)\n",
    "arr4 = np.random.random(n)\n",
    "d = dice(arr4)\n",
    "\n",
    "out1 = 3*b\n",
    "out2 = c*d\n",
    "\n",
    "win = 0\n",
    "for i in range(n):\n",
    "    if (out1[i]>out2[i]):\n",
    "        win+=1\n",
    "\n",
    "print win/float(n)"
   ]
  },
  {
   "cell_type": "markdown",
   "metadata": {},
   "source": [
    "### Geometric Brownian Motion.\n",
    "\n",
    "One popular way to simulate stock is using geometric brownian motion. Stockprice at $t+dt$ is related to the stock price at time $t$ by\n",
    "\n",
    "$$s(t+dt) = s(t) + s(t)(\\mu dt + \\epsilon\\sigma \\sqrt{dt}) $$\n",
    "\n",
    "where\n",
    "1. $\\mu$ is the mean rate of return. Typically quote as $\\%$ per year.\n",
    "2. $\\epsilon$ is a normally distributed random variable with mean 0 and variance of 1.\n",
    "3. $\\sigma$ is called volatility. It typically quoted as $\\%$ per $\\sqrt{\\text{year}}$. It represent how wildly stock can go.\n",
    "\n",
    "To use this formula, we need to make sure the unit for $t$ is correct. Normally just convert it to year\n",
    "\n",
    "All these number can be looked up from the internet (you can calculate one yourself from historical data too). \n",
    "\n",
    "Here is one example: google for aapl volatility.\n",
    "\n",
    "The funny unit of $\\sqrt{t}$ has to do with scaling behavior. You can read it in the lecture notes."
   ]
  },
  {
   "cell_type": "markdown",
   "metadata": {},
   "source": [
    "1) Given the volatility($\\sigma$) of $28\\%$ per $\\sqrt{\\text{year}}$ and mean rate of return $8.77\\%$. The stock today is 119.21$. Write a function to generate the price for tomorrow given the price today."
   ]
  },
  {
   "cell_type": "code",
   "execution_count": 21,
   "metadata": {
    "collapsed": false
   },
   "outputs": [
    {
     "name": "stdout",
     "output_type": "stream",
     "text": [
      "120.638106198\n"
     ]
    }
   ],
   "source": [
    "def sp(s,dt,mean,vol):\n",
    "    ndrv = np.random.randn()\n",
    "    return s + s*((mean*dt) + (ndrv*vol*math.sqrt(dt)))\n",
    "\n",
    "print sp(119.21,1,0.0877,0.28)"
   ]
  },
  {
   "cell_type": "markdown",
   "metadata": {},
   "source": [
    "2) Generate the price for 1 trading year(all the time we said year it actually means trading year). Have dt = 1 day. 1 Trading year is actually 252 day."
   ]
  },
  {
   "cell_type": "code",
   "execution_count": 23,
   "metadata": {
    "collapsed": false
   },
   "outputs": [
    {
     "data": {
      "text/plain": [
       "[<matplotlib.lines.Line2D at 0x12c3a1810>]"
      ]
     },
     "execution_count": 23,
     "metadata": {},
     "output_type": "execute_result"
    },
    {
     "data": {
      "image/png": "[encoded data removed]",
      "text/plain": [
       "<matplotlib.figure.Figure at 0x12c2c9b90>"
      ]
     },
     "metadata": {},
     "output_type": "display_data"
    }
   ],
   "source": [
    "def sp(s,dt,mean,vol):\n",
    "    ndrv = np.random.randn()\n",
    "    return s + s*(mean*dt + ndrv*vol*math.sqrt(dt))\n",
    "\n",
    "def yearSP(s,mean,vol):\n",
    "    out = []\n",
    "    dt = 1./252\n",
    "    for i in range(1,253):\n",
    "        s = sp(s,dt,mean,vol)\n",
    "        out.append(s)\n",
    "    return out\n",
    "\n",
    "arr = yearSP(119.21,0.0877,0.28)\n",
    "plt.plot(arr)"
   ]
  },
  {
   "cell_type": "code",
   "execution_count": 24,
   "metadata": {
    "collapsed": false
   },
   "outputs": [
    {
     "data": {
      "image/png": "[encoded data removed]",
      "text/plain": [
       "<matplotlib.figure.Figure at 0x12c2ac210>"
      ]
     },
     "metadata": {},
     "output_type": "display_data"
    }
   ],
   "source": [
    "aapl = [yearSP(119.21,0.0877,0.28) for i in range(10000)]\n",
    "\n",
    "for j in range(20):\n",
    "    plt.plot(aapl[j])"
   ]
  },
  {
   "cell_type": "markdown",
   "metadata": {},
   "source": [
    "3) What is the expected value of the stock at the end of year?"
   ]
  },
  {
   "cell_type": "code",
   "execution_count": 25,
   "metadata": {
    "collapsed": false
   },
   "outputs": [
    {
     "name": "stdout",
     "output_type": "stream",
     "text": [
      "130.126950105\n"
     ]
    }
   ],
   "source": [
    "s = []\n",
    "for i in range(len(aapl)):\n",
    "    s.append(aapl[i][-1]) #add the last day price\n",
    "print np.sum(s)/len(aapl)"
   ]
  },
  {
   "cell_type": "markdown",
   "metadata": {},
   "source": [
    "4) What is the variance of the stock at the end of the year?"
   ]
  },
  {
   "cell_type": "code",
   "execution_count": 26,
   "metadata": {
    "collapsed": false
   },
   "outputs": [
    {
     "data": {
      "text/plain": [
       "(array([   3.,    9.,    6.,   10.,   17.,   36.,   62.,   69.,   87.,\n",
       "         143.,  132.,  193.,  170.,  221.,  282.,  292.,  297.,  315.,\n",
       "         337.,  371.,  364.,  377.,  393.,  386.,  355.,  348.,  376.,\n",
       "         300.,  324.,  292.,  297.,  272.,  257.,  249.,  224.,  212.,\n",
       "         164.,  163.,  184.,  132.,  127.,  110.,  112.,  116.,   85.,\n",
       "          70.,   64.,   74.,   63.,   42.,   47.,   44.,   41.,   32.,\n",
       "          33.,   29.,   24.,   14.,   17.,   14.,   13.,   14.,    9.,\n",
       "           9.,    5.,    8.,   11.,    7.,    6.,    4.,    4.,    6.,\n",
       "           1.,    3.,    2.,    1.,    3.,    3.,    1.,    2.,    2.,\n",
       "           0.,    1.,    0.,    1.,    2.,    0.,    0.,    0.,    1.,\n",
       "           0.,    0.,    0.,    0.,    0.,    0.,    0.,    0.,    0.,    2.]),\n",
       " array([  44.55993678,   47.75416014,   50.9483835 ,   54.14260687,\n",
       "          57.33683023,   60.53105359,   63.72527695,   66.91950031,\n",
       "          70.11372367,   73.30794703,   76.50217039,   79.69639375,\n",
       "          82.89061711,   86.08484047,   89.27906383,   92.47328719,\n",
       "          95.66751055,   98.86173391,  102.05595727,  105.25018063,\n",
       "         108.44440399,  111.63862735,  114.83285071,  118.02707407,\n",
       "         121.22129743,  124.41552079,  127.60974415,  130.80396751,\n",
       "         133.99819088,  137.19241424,  140.3866376 ,  143.58086096,\n",
       "         146.77508432,  149.96930768,  153.16353104,  156.3577544 ,\n",
       "         159.55197776,  162.74620112,  165.94042448,  169.13464784,\n",
       "         172.3288712 ,  175.52309456,  178.71731792,  181.91154128,\n",
       "         185.10576464,  188.299988  ,  191.49421136,  194.68843472,\n",
       "         197.88265808,  201.07688144,  204.2711048 ,  207.46532816,\n",
       "         210.65955152,  213.85377488,  217.04799825,  220.24222161,\n",
       "         223.43644497,  226.63066833,  229.82489169,  233.01911505,\n",
       "         236.21333841,  239.40756177,  242.60178513,  245.79600849,\n",
       "         248.99023185,  252.18445521,  255.37867857,  258.57290193,\n",
       "         261.76712529,  264.96134865,  268.15557201,  271.34979537,\n",
       "         274.54401873,  277.73824209,  280.93246545,  284.12668881,\n",
       "         287.32091217,  290.51513553,  293.70935889,  296.90358226,\n",
       "         300.09780562,  303.29202898,  306.48625234,  309.6804757 ,\n",
       "         312.87469906,  316.06892242,  319.26314578,  322.45736914,\n",
       "         325.6515925 ,  328.84581586,  332.04003922,  335.23426258,\n",
       "         338.42848594,  341.6227093 ,  344.81693266,  348.01115602,\n",
       "         351.20537938,  354.39960274,  357.5938261 ,  360.78804946,\n",
       "         363.98227282]),\n",
       " <a list of 100 Patch objects>)"
      ]
     },
     "execution_count": 26,
     "metadata": {},
     "output_type": "execute_result"
    },
    {
     "data": {
      "image/png": "[encoded data removed]",
      "text/plain": [
       "<matplotlib.figure.Figure at 0x12c503fd0>"
      ]
     },
     "metadata": {},
     "output_type": "display_data"
    }
   ],
   "source": [
    "s = []\n",
    "for i in range(len(aapl)):\n",
    "    s.append(aapl[i][-1]) #add the last day price\n",
    "plt.hist(s,bins=100)"
   ]
  },
  {
   "cell_type": "markdown",
   "metadata": {},
   "source": [
    "5) What is the probability that the price of the stock will dip below 70 at anytime of the year?"
   ]
  },
  {
   "cell_type": "code",
   "execution_count": 27,
   "metadata": {
    "collapsed": false
   },
   "outputs": [
    {
     "name": "stdout",
     "output_type": "stream",
     "text": [
      "0.0401\n"
     ]
    }
   ],
   "source": [
    "sev = 0\n",
    "for i in range(len(aapl)):\n",
    "    for j in range(len(aapl[i])):\n",
    "        if aapl[i][j]<70:\n",
    "            sev+=1\n",
    "            break\n",
    "print float(sev)/len(aapl)"
   ]
  },
  {
   "cell_type": "markdown",
   "metadata": {},
   "source": [
    "6) What is the proabability that th stock will dip below 100 and come back to 110 within a year? "
   ]
  },
  {
   "cell_type": "code",
   "execution_count": 28,
   "metadata": {
    "collapsed": false
   },
   "outputs": [
    {
     "name": "stdout",
     "output_type": "stream",
     "text": [
      "0.2693\n"
     ]
    }
   ],
   "source": [
    "stocks = 0\n",
    "for i in range(len(aapl)):\n",
    "    dipped = False\n",
    "    for j in range(len(aapl[i])):\n",
    "        if dipped:\n",
    "            if aapl[i][j]>=110:\n",
    "                stocks+=1\n",
    "                break\n",
    "        else:\n",
    "            if aapl[i][j]<100:\n",
    "                dipped = True\n",
    "print float(stocks)/len(aapl)"
   ]
  },
  {
   "cell_type": "markdown",
   "metadata": {},
   "source": [
    "### Hill Climbing"
   ]
  },
  {
   "cell_type": "markdown",
   "metadata": {},
   "source": [
    "### Biggest Triangle.\n",
    "Let us consider the problem of finding the triangle with maximum area from given 500 points."
   ]
  },
  {
   "cell_type": "code",
   "execution_count": 44,
   "metadata": {
    "collapsed": false
   },
   "outputs": [
    {
     "data": {
      "text/plain": [
       "[<matplotlib.lines.Line2D at 0x11b5d2e10>]"
      ]
     },
     "execution_count": 44,
     "metadata": {},
     "output_type": "execute_result"
    },
    {
     "data": {
      "image/png": "[encoded data removed]",
      "text/plain": [
       "<matplotlib.figure.Figure at 0x12c394710>"
      ]
     },
     "metadata": {},
     "output_type": "display_data"
    }
   ],
   "source": [
    "np.random.seed(13)\n",
    "n = 500\n",
    "x = np.random.randn(n)*2-1\n",
    "y = np.random.randn(n)*2-1\n",
    "plt.plot(x,y,'.r')"
   ]
  },
  {
   "cell_type": "code",
   "execution_count": 30,
   "metadata": {
    "collapsed": false
   },
   "outputs": [],
   "source": [
    "def triarea(x1,y1, x2,y2, x3,y3):\n",
    "    #shoelace formula\n",
    "    return 0.5*abs(x1*y2 + x2*y3 + x3*y1 - y1*x2 - y2*x3 - y3*x1)\n",
    "\n",
    "def triarea2(r):\n",
    "    x1,y1 = r[0]\n",
    "    x2,y2 = r[1]\n",
    "    x3,y3 = r[2]\n",
    "    return triarea(x1,y1, x2,y2, x3,y3)\n"
   ]
  },
  {
   "cell_type": "code",
   "execution_count": 115,
   "metadata": {
    "collapsed": false
   },
   "outputs": [
    {
     "name": "stdout",
     "output_type": "stream",
     "text": [
      "[[-7.42086159 -2.08809193]\n",
      " [-1.14472632  5.20372708]\n",
      " [ 5.80221144 -4.25975697]]\n"
     ]
    },
    {
     "data": {
      "image/png": "[encoded data removed]",
      "text/plain": [
       "<matplotlib.figure.Figure at 0x11b68c090>"
      ]
     },
     "metadata": {},
     "output_type": "display_data"
    }
   ],
   "source": [
    "np.random.seed(13)\n",
    "n = 500\n",
    "x = np.random.randn(n)*2-1\n",
    "y = np.random.randn(n)*2-1\n",
    "plt.plot(x,y,'.r')\n",
    "\n",
    "def bigLuckyTri(x,y,triangle,n):\n",
    "    maxa = triarea2(triangle)\n",
    "    for i in range(n):\n",
    "        p = np.random.randint(0,len(x)-1)\n",
    "        bp = [x[p],y[p]]\n",
    "        tri0 = np.copy(triangle)\n",
    "        tri1 = np.copy(triangle)\n",
    "        tri2 = np.copy(triangle)\n",
    "        \n",
    "        tri0[0] = bp\n",
    "        tri1[1] = bp\n",
    "        tri2[2] = bp\n",
    "        \n",
    "        a1 = triarea2(tri0)\n",
    "        a2 = triarea2(tri1)\n",
    "        a3 = triarea2(tri2)\n",
    "        ma = max(a1,a2,a3)\n",
    "        \n",
    "        if (ma>maxa):\n",
    "            maxa = ma\n",
    "            if (maxa==a1):\n",
    "                triangle = tri0\n",
    "            elif (maxa==a2):\n",
    "                triangle = tri1\n",
    "            else:\n",
    "                triangle = tri2\n",
    "    plt.plot(triangle[:,0],triangle[:,1],'.b')\n",
    "    \n",
    "    return triangle\n",
    "            \n",
    "start = np.array([[x[0],y[0]],\n",
    "                 [x[1],y[1]],\n",
    "                 [x[2],y[2]]])\n",
    "\n",
    "print bigLuckyTri(x,y,start,1000)"
   ]
  },
  {
   "cell_type": "markdown",
   "metadata": {
    "collapsed": true
   },
   "source": [
    "### Scheduling Exam\n",
    "\n",
    "Give classes and the intersection of students. Find a decent scheduling under 15 slot for 70 classes. Number of student taking both class `i` and class `j` can be found using `student[i][j]`."
   ]
  },
  {
   "cell_type": "code",
   "execution_count": 112,
   "metadata": {
    "collapsed": false
   },
   "outputs": [
    {
     "name": "stdout",
     "output_type": "stream",
     "text": [
      "[[ 0 23 17 ..., 19  0 29]\n",
      " [23  0  0 ...,  0  0 37]\n",
      " [17  0  0 ..., 52 40  0]\n",
      " ..., \n",
      " [19  0 52 ...,  0 20  0]\n",
      " [ 0  0 40 ..., 20  0 14]\n",
      " [29 37  0 ...,  0 14  0]]\n"
     ]
    },
    {
     "data": {
      "text/plain": [
       "<matplotlib.image.AxesImage at 0x11b682950>"
      ]
     },
     "execution_count": 112,
     "metadata": {},
     "output_type": "execute_result"
    },
    {
     "data": {
      "image/png": "[encoded data removed]",
      "text/plain": [
       "<matplotlib.figure.Figure at 0x11b5d1b10>"
      ]
     },
     "metadata": {},
     "output_type": "display_data"
    }
   ],
   "source": [
    "nclass = 70\n",
    "student = np.random.randint(0,100,(nclass, nclass))\n",
    "\n",
    "np.random.seed(222)\n",
    "for i in range(nclass-1):\n",
    "    for j in range(i+1,nclass):\n",
    "        student[i,j] = student[j,i]\n",
    "\n",
    "for i in range(nclass):\n",
    "    student[i,i] = 0 \n",
    "    \n",
    "student[student>70] = 0\n",
    "    \n",
    "print student\n",
    "\n",
    "plt.matshow(student)"
   ]
  },
  {
   "cell_type": "code",
   "execution_count": null,
   "metadata": {
    "collapsed": true
   },
   "outputs": [],
   "source": []
  },
  {
   "cell_type": "markdown",
   "metadata": {},
   "source": [
    "### Simulated Annealing"
   ]
  },
  {
   "cell_type": "markdown",
   "metadata": {
    "collapsed": true
   },
   "source": [
    "1) What's wrong with Hill Climbing?"
   ]
  },
  {
   "cell_type": "code",
   "execution_count": null,
   "metadata": {
    "collapsed": true
   },
   "outputs": [],
   "source": []
  },
  {
   "cell_type": "markdown",
   "metadata": {},
   "source": [
    "2) What is the main idea for fixing that?"
   ]
  },
  {
   "cell_type": "code",
   "execution_count": null,
   "metadata": {
    "collapsed": true
   },
   "outputs": [],
   "source": []
  },
  {
   "cell_type": "markdown",
   "metadata": {},
   "source": [
    "3) Implement the exam scheduling again with Simulated Annealing"
   ]
  },
  {
   "cell_type": "code",
   "execution_count": null,
   "metadata": {
    "collapsed": true
   },
   "outputs": [],
   "source": []
  }
 ],
 "metadata": {
  "kernelspec": {
   "display_name": "Python 2",
   "language": "python",
   "name": "python2"
  },
  "language_info": {
   "codemirror_mode": {
    "name": "ipython",
    "version": 2
   },
   "file_extension": ".py",
   "mimetype": "text/x-python",
   "name": "python",
   "nbconvert_exporter": "python",
   "pygments_lexer": "ipython2",
   "version": "2.7.6"
  }
 },
 "nbformat": 4,
 "nbformat_minor": 0
}
