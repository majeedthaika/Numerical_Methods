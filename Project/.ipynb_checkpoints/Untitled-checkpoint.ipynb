{
 "cells": [
  {
   "cell_type": "code",
   "execution_count": null,
   "metadata": {
    "collapsed": true
   },
   "outputs": [],
   "source": [
    "# def cost(w,l,R=1):\n",
    "#     ans = 0.0\n",
    "#     for i in range()\n",
    "#     d = (xi-xj)**2+(yi-yj)**2\n",
    "#     k = R/(l**2)\n",
    "#     return np.sum()\n",
    "\n",
    "# def SpringEmbeddedGraph(G, n, l=None, xdim=10.,ydim=10.):\n",
    "#     if (l==None): #Default value is 1/sqrt(len(G))\n",
    "#         l = 1./sqrt(len(G)) #Optimal distance between nodes (Increase k to increase dist between nodes)\n",
    "#     for i in range(n):\n",
    "#         pass\n",
    "#     return None\n",
    "\n",
    "# A = PGenUndirMatrix(4,1.0)\n",
    "\n",
    "# def Cost(G,xi,yi,k=1.0):\n",
    "#     out = 0.0\n",
    "#     for i in range(len(xi)-1):\n",
    "#         for j in range(i+1,len(xi)):\n",
    "#             d = (xi-xj)**2+(yi-yj)**2\n",
    "#             l = d**0.5\n",
    "#             if (G[i,j]==1):\n",
    "#                 l = d**0.5\n",
    "#             else:\n",
    "#                 l = 0.1\n",
    "#             res = (d-l)**2\n",
    "#             res *= k/d\n",
    "#             out += res\n",
    "#     return out\n",
    "\n",
    "# def FloydWarshall(G,xi,yi):\n",
    "#     lg = len(G)\n",
    "#     E = np.empty(lg**2).reshape(lg, lg)\n",
    "#     for m in range(lg):\n",
    "#         for n in range(lg):\n",
    "#             if (m==n):\n",
    "#                 continue\n",
    "#             if (G[m,n]==1):\n",
    "#                 E[m,n] = np.sqrt((xi[m]-xi[n])**2+(yi[m]-yi[n])**2)\n",
    "#                 E[n,m] = E[m,n]\n",
    "#             else:\n",
    "#                 E[m,n] = float(\"inf\")\n",
    "#                 E[n,m] = float(\"inf\")\n",
    "#     for k in range(lg):\n",
    "#         for i in range(lg):\n",
    "#             for j in range(lg):\n",
    "#                 if (i==j):\n",
    "#                     continue\n",
    "#                 E[i,j] = min(E[i,j], E[i,k]+E[k,j])\n",
    "# #     for i in range(lg):\n",
    "# #         for j in range(lg):\n",
    "# #             print i,j\n",
    "# #             print E[i,j]\n",
    "#     return E"
   ]
  }
 ],
 "metadata": {
  "kernelspec": {
   "display_name": "Python 2",
   "language": "python",
   "name": "python2"
  },
  "language_info": {
   "codemirror_mode": {
    "name": "ipython",
    "version": 2
   },
   "file_extension": ".py",
   "mimetype": "text/x-python",
   "name": "python",
   "nbconvert_exporter": "python",
   "pygments_lexer": "ipython2",
   "version": "2.7.6"
  }
 },
 "nbformat": 4,
 "nbformat_minor": 0
}
